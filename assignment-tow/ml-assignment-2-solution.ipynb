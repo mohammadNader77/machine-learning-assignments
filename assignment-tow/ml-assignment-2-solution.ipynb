{
  "nbformat": 4,
  "nbformat_minor": 0,
  "metadata": {
    "colab": {
      "provenance": []
    },
    "kernelspec": {
      "name": "python3",
      "display_name": "Python 3"
    },
    "language_info": {
      "name": "python"
    }
  },
  "cells": [
    {
      "cell_type": "markdown",
      "source": [
        "\n",
        "# 1. Data Preprocessing\n",
        "# 1.1 Load the Dataset\n"
      ],
      "metadata": {
        "id": "l29wYSh5CLCF"
      }
    },
    {
      "cell_type": "code",
      "execution_count": 229,
      "metadata": {
        "colab": {
          "base_uri": "https://localhost:8080/"
        },
        "id": "YFCCNaOZsTBY",
        "outputId": "7515ac2f-61b1-40b4-dacb-b9243624904f"
      },
      "outputs": [
        {
          "output_type": "stream",
          "name": "stdout",
          "text": [
            "Loading dataset...\n",
            "First 5 rows of the dataset:\n",
            "                           car name                 price engine_capacity  \\\n",
            "0           Fiat 500e 2021 La Prima                   TBD             0.0   \n",
            "1     Peugeot Traveller 2021 L3 VIP           SAR 140,575             2.0   \n",
            "2  Suzuki Jimny 2021 1.5L Automatic            SAR 98,785             1.5   \n",
            "3    Ford Bronco 2021 2.3T Big Bend           SAR 198,000             2.3   \n",
            "4     Honda HR-V 2021 1.8 i-VTEC LX  Orangeburst Metallic             1.8   \n",
            "\n",
            "        cylinder horse_power  top_speed     seats    brand country  \n",
            "0  N/A, Electric      Single  Automatic       150     fiat     ksa  \n",
            "1              4         180   8 Seater       8.8  peugeot     ksa  \n",
            "2              4         102        145  4 Seater   suzuki     ksa  \n",
            "3              4         420   4 Seater       7.5     ford     ksa  \n",
            "4              4         140        190  5 Seater    honda     ksa  \n"
          ]
        }
      ],
      "source": [
        "#Student1 Name : Ali Halayqa    ID : 1201769  Sec : 1\n",
        "#Student2 Name : Mohammad Shreteh    ID : 1201369  Sec : 3\n",
        "\n",
        "import pandas as pd\n",
        "import numpy as np\n",
        "from sklearn.preprocessing import StandardScaler, PolynomialFeatures\n",
        "\n",
        "\n",
        "# Load the dataset\n",
        "print(\"Loading dataset...\")\n",
        "df = pd.read_csv('cars.csv')\n",
        "\n",
        "# Display first few rows\n",
        "print(\"First 5 rows of the dataset:\")\n",
        "print(df.head())\n"
      ]
    },
    {
      "cell_type": "markdown",
      "source": [
        "#1.2 Check for missing value before data preprocessing\n",
        "\n",
        "\n"
      ],
      "metadata": {
        "id": "CYMTN2aeCai3"
      }
    },
    {
      "cell_type": "code",
      "source": [
        "# Check for missing values\n",
        "print(\"\\nMissing values in each column from dataset:\")\n",
        "missing_values = df.isnull().sum()\n",
        "print(missing_values)"
      ],
      "metadata": {
        "colab": {
          "base_uri": "https://localhost:8080/"
        },
        "id": "SgNBz_VIBEiX",
        "outputId": "e11ed04f-f8a6-4a1f-c20e-dff313ea984c"
      },
      "execution_count": 230,
      "outputs": [
        {
          "output_type": "stream",
          "name": "stdout",
          "text": [
            "\n",
            "Missing values in each column from dataset:\n",
            "car name             0\n",
            "price                0\n",
            "engine_capacity      0\n",
            "cylinder           624\n",
            "horse_power          0\n",
            "top_speed            0\n",
            "seats                0\n",
            "brand                0\n",
            "country              0\n",
            "dtype: int64\n"
          ]
        }
      ]
    },
    {
      "cell_type": "markdown",
      "source": [
        "# data cleaning"
      ],
      "metadata": {
        "id": "7KL6Z9WHC0dJ"
      }
    },
    {
      "cell_type": "code",
      "source": [
        "# convert to numeric and handle errors\n",
        "df[\"horse_power\"] = pd.to_numeric(df[\"horse_power\"], errors='coerce')\n",
        "\n",
        "# remove rows that don't contain 'Seater'\n",
        "df['seats'] = df['seats'].apply(lambda x: x if isinstance(x, str) and 'Seater' in x else np.nan)\n",
        "\n",
        "# convert to numeric and handle errors\n",
        "df[\"cylinder\"] = pd.to_numeric(df[\"cylinder\"], errors='coerce')\n",
        "\n",
        "# convert to numeric and handle errors\n",
        "df[\"top_speed\"] = pd.to_numeric(df[\"top_speed\"], errors='coerce')\n",
        "\n",
        "# convert to numeric and handle errors\n",
        "df[\"engine_capacity\"] = pd.to_numeric(df[\"engine_capacity\"], errors='coerce')\n",
        "\n",
        "# Handle missing values for numeric columns by replacing NaNs with column means/median\n",
        "df[\"top_speed\"].fillna(df[\"top_speed\"].mean(), inplace=True)\n",
        "df[\"horse_power\"].fillna(df[\"horse_power\"].mean(), inplace=True)\n",
        "df[\"cylinder\"].fillna(df[\"cylinder\"].mean(), inplace=True)\n",
        "df[\"engine_capacity\"].fillna(df[\"engine_capacity\"].median(), inplace=True)\n",
        "\n",
        "# Handle missing values in 'seats' by replacing NaNs with the mode (most frequent value)\n",
        "df[\"seats\"].fillna(df[\"seats\"].mode()[0], inplace=True)\n"
      ],
      "metadata": {
        "colab": {
          "base_uri": "https://localhost:8080/"
        },
        "id": "rcjjTpgP8nUv",
        "outputId": "d4d9b5f7-4c82-4417-8879-9b960a4559b9"
      },
      "execution_count": 231,
      "outputs": [
        {
          "output_type": "stream",
          "name": "stderr",
          "text": [
            "<ipython-input-231-dfd2f58fe11d>:17: FutureWarning: A value is trying to be set on a copy of a DataFrame or Series through chained assignment using an inplace method.\n",
            "The behavior will change in pandas 3.0. This inplace method will never work because the intermediate object on which we are setting values always behaves as a copy.\n",
            "\n",
            "For example, when doing 'df[col].method(value, inplace=True)', try using 'df.method({col: value}, inplace=True)' or df[col] = df[col].method(value) instead, to perform the operation inplace on the original object.\n",
            "\n",
            "\n",
            "  df[\"top_speed\"].fillna(df[\"top_speed\"].mean(), inplace=True)\n",
            "<ipython-input-231-dfd2f58fe11d>:18: FutureWarning: A value is trying to be set on a copy of a DataFrame or Series through chained assignment using an inplace method.\n",
            "The behavior will change in pandas 3.0. This inplace method will never work because the intermediate object on which we are setting values always behaves as a copy.\n",
            "\n",
            "For example, when doing 'df[col].method(value, inplace=True)', try using 'df.method({col: value}, inplace=True)' or df[col] = df[col].method(value) instead, to perform the operation inplace on the original object.\n",
            "\n",
            "\n",
            "  df[\"horse_power\"].fillna(df[\"horse_power\"].mean(), inplace=True)\n",
            "<ipython-input-231-dfd2f58fe11d>:19: FutureWarning: A value is trying to be set on a copy of a DataFrame or Series through chained assignment using an inplace method.\n",
            "The behavior will change in pandas 3.0. This inplace method will never work because the intermediate object on which we are setting values always behaves as a copy.\n",
            "\n",
            "For example, when doing 'df[col].method(value, inplace=True)', try using 'df.method({col: value}, inplace=True)' or df[col] = df[col].method(value) instead, to perform the operation inplace on the original object.\n",
            "\n",
            "\n",
            "  df[\"cylinder\"].fillna(df[\"cylinder\"].mean(), inplace=True)\n",
            "<ipython-input-231-dfd2f58fe11d>:20: FutureWarning: A value is trying to be set on a copy of a DataFrame or Series through chained assignment using an inplace method.\n",
            "The behavior will change in pandas 3.0. This inplace method will never work because the intermediate object on which we are setting values always behaves as a copy.\n",
            "\n",
            "For example, when doing 'df[col].method(value, inplace=True)', try using 'df.method({col: value}, inplace=True)' or df[col] = df[col].method(value) instead, to perform the operation inplace on the original object.\n",
            "\n",
            "\n",
            "  df[\"engine_capacity\"].fillna(df[\"engine_capacity\"].median(), inplace=True)\n",
            "<ipython-input-231-dfd2f58fe11d>:23: FutureWarning: A value is trying to be set on a copy of a DataFrame or Series through chained assignment using an inplace method.\n",
            "The behavior will change in pandas 3.0. This inplace method will never work because the intermediate object on which we are setting values always behaves as a copy.\n",
            "\n",
            "For example, when doing 'df[col].method(value, inplace=True)', try using 'df.method({col: value}, inplace=True)' or df[col] = df[col].method(value) instead, to perform the operation inplace on the original object.\n",
            "\n",
            "\n",
            "  df[\"seats\"].fillna(df[\"seats\"].mode()[0], inplace=True)\n"
          ]
        }
      ]
    },
    {
      "cell_type": "markdown",
      "source": [
        "# 1.2 Handle Missing Values"
      ],
      "metadata": {
        "id": "gyqSORsMETk7"
      }
    },
    {
      "cell_type": "code",
      "source": [
        "# Check for missing values\n",
        "print(\"\\nMissing values in each column from dataset:\")\n",
        "missing_values = df.isnull().sum()\n",
        "print(missing_values)\n",
        "\n",
        "# Drop rows with any missing values\n",
        "df = df.dropna()\n",
        "\n",
        "# Verify that no missing values remain\n",
        "print(\"\\nMissing values after cleaning:\")\n",
        "missing_values_after = df.isnull().sum()\n",
        "print(missing_values_after)\n"
      ],
      "metadata": {
        "colab": {
          "base_uri": "https://localhost:8080/"
        },
        "id": "ltfU6AXgtDW5",
        "outputId": "7db59dd1-9b00-456a-9750-827b1fd88ca3"
      },
      "execution_count": 232,
      "outputs": [
        {
          "output_type": "stream",
          "name": "stdout",
          "text": [
            "\n",
            "Missing values in each column from dataset:\n",
            "car name           0\n",
            "price              0\n",
            "engine_capacity    0\n",
            "cylinder           0\n",
            "horse_power        0\n",
            "top_speed          0\n",
            "seats              0\n",
            "brand              0\n",
            "country            0\n",
            "dtype: int64\n",
            "\n",
            "Missing values after cleaning:\n",
            "car name           0\n",
            "price              0\n",
            "engine_capacity    0\n",
            "cylinder           0\n",
            "horse_power        0\n",
            "top_speed          0\n",
            "seats              0\n",
            "brand              0\n",
            "country            0\n",
            "dtype: int64\n"
          ]
        }
      ]
    },
    {
      "cell_type": "markdown",
      "source": [
        "# 1.3 convert price to usd and scale"
      ],
      "metadata": {
        "id": "zgBJr3AKFUVk"
      }
    },
    {
      "cell_type": "code",
      "source": [
        "import pandas as pd\n",
        "import numpy as np\n",
        "import re\n",
        "\n",
        "# check column price exist\n",
        "if 'price' not in df.columns:\n",
        "    raise ValueError(\"The dataset does not contain a 'price' column.\")\n",
        "\n",
        "# Function to extract currency and numerical price\n",
        "def extract_currency_price(x):\n",
        "    if isinstance(x, str):\n",
        "        # Extract currency\n",
        "        currency_match = re.findall(r'[A-Za-z]+', x)\n",
        "        currency = currency_match[0].upper() if currency_match else 'USD'\n",
        "\n",
        "        # Extract numerical price\n",
        "        price_match = re.findall(r'[\\d,.]+', x)\n",
        "        if price_match:\n",
        "            price_str = price_match[0].replace(',', '')\n",
        "            try:\n",
        "                price_value = float(price_str)\n",
        "            except ValueError:\n",
        "                price_value = np.nan\n",
        "        else:\n",
        "            price_value = np.nan\n",
        "\n",
        "        return pd.Series([currency, price_value])\n",
        "    else:\n",
        "        return pd.Series(['USD', np.nan])\n",
        "\n",
        "# Apply the extraction function\n",
        "df[['currency', 'price_value']] = df['price'].apply(extract_currency_price)\n",
        "\n",
        "# Drop rows with invalid price values (e.g., 'TBD')\n",
        "df = df.dropna(subset=['price_value'])\n",
        "\n",
        "# Define currency conversion rates\n",
        "currency_mapping = {\n",
        "    'USD': 1,\n",
        "    'AED': 0.27,    # 1 AED = 0.27 USD\n",
        "    'SAR': 0.2664,  # 1 SAR = 0.2664 USD\n",
        "    'QAR':  0.27,    # 1 QAR = 0.27 USD\n",
        "    'OMR': 2.60 , # 1 OMR = 2.60 USD\n",
        "    'KWD': 3.25 , # 1 KWD = 3.25 USD\n",
        "    'BHD': 2.65,  # 1 BHD = 2.65 USD\n",
        "}\n",
        "\n",
        "# Function to convert price to USD\n",
        "def convert_to_usd(row):\n",
        "    rate = currency_mapping.get(row['currency'], np.nan)  # Use NaN if currency not found\n",
        "    return row['price_value'] * rate if pd.notna(rate) else np.nan\n",
        "\n",
        "# Apply the conversion\n",
        "df['price_usd'] = df.apply(convert_to_usd, axis=1)\n",
        "\n",
        "# Drop rows where conversion was not possible (e.g., unknown currencies)\n",
        "df = df.dropna(subset=['price_usd'])\n",
        "\n",
        "# Count and print the number of valid prices\n",
        "remaining_prices_count = df.shape[0]\n",
        "print(f\"Number of valid prices after dropping: {remaining_prices_count}\")\n",
        "\n",
        "# Print the first 100 converted prices\n",
        "print(\"First 100 Converted Prices in USD:\")\n",
        "print(df['price_usd'].head(100))\n",
        "\n",
        "# Drop unnecessary columns\n",
        "df = df.drop(['price_value', 'currency'], axis=1)\n",
        "\n",
        "# Define 'price_usd' as the target variable\n",
        "target = 'price_usd'"
      ],
      "metadata": {
        "id": "GvujOs2ots7Y",
        "colab": {
          "base_uri": "https://localhost:8080/"
        },
        "outputId": "59fdc2f2-1319-45b5-a4e6-54a54ad7cfcb"
      },
      "execution_count": 233,
      "outputs": [
        {
          "output_type": "stream",
          "name": "stdout",
          "text": [
            "Number of valid prices after dropping: 4684\n",
            "First 100 Converted Prices in USD:\n",
            "1       37449.1800\n",
            "2       26316.3240\n",
            "3       52747.2000\n",
            "5       25397.2440\n",
            "6       22069.9080\n",
            "          ...     \n",
            "136     17125.5240\n",
            "137     78787.5336\n",
            "138     11215.4400\n",
            "139     29012.2920\n",
            "140    162314.8560\n",
            "Name: price_usd, Length: 100, dtype: float64\n"
          ]
        },
        {
          "output_type": "stream",
          "name": "stderr",
          "text": [
            "<ipython-input-233-8c47b9f5fe5b>:54: SettingWithCopyWarning: \n",
            "A value is trying to be set on a copy of a slice from a DataFrame.\n",
            "Try using .loc[row_indexer,col_indexer] = value instead\n",
            "\n",
            "See the caveats in the documentation: https://pandas.pydata.org/pandas-docs/stable/user_guide/indexing.html#returning-a-view-versus-a-copy\n",
            "  df['price_usd'] = df.apply(convert_to_usd, axis=1)\n"
          ]
        }
      ]
    },
    {
      "cell_type": "markdown",
      "source": [
        "# 1.4 Encode Categorical Variables with Frequency Encoding\n"
      ],
      "metadata": {
        "id": "VwEmbmxgFX6J"
      }
    },
    {
      "cell_type": "code",
      "source": [
        "# Identify categorical columns\n",
        "categorical_col = df.select_dtypes(include=['object']).columns.tolist()\n",
        "if target in categorical_col:\n",
        "    categorical_col.remove(target)\n",
        "\n",
        "# Function to reduce categories to top N\n",
        "def reduce_to_top_categories(df, column, top_n=10):\n",
        "    top_categories = df[column].value_counts().nlargest(top_n).index\n",
        "    df[column] = df[column].apply(lambda x: x if x in top_categories else 'Other')\n",
        "    return df\n",
        "\n",
        "# Reduce categories and apply frequency encoding\n",
        "def apply_frequency(df, column):\n",
        "    frequency = df[column].value_counts(normalize=True)\n",
        "    df[column] = df[column].map(frequency)\n",
        "    return df\n",
        "\n",
        "for column in categorical_col:\n",
        "    if df[column].nunique() > 10:\n",
        "        df = reduce_to_top_categories(df, column, top_n=10)\n",
        "        print(f\"Reduced categories in '{column}' to top 10 and 'Other'.\")\n",
        "    df = apply_frequency(df, column)\n",
        "    print(f\"Applied Frequency Encoding to '{column}'.\")"
      ],
      "metadata": {
        "colab": {
          "base_uri": "https://localhost:8080/"
        },
        "id": "Bh2pRDGwv2A-",
        "outputId": "75caf108-cb17-42c5-90d6-b52d80b778aa"
      },
      "execution_count": 234,
      "outputs": [
        {
          "output_type": "stream",
          "name": "stdout",
          "text": [
            "Reduced categories in 'car name' to top 10 and 'Other'.\n",
            "Applied Frequency Encoding to 'car name'.\n",
            "Reduced categories in 'price' to top 10 and 'Other'.\n",
            "Applied Frequency Encoding to 'price'.\n",
            "Reduced categories in 'seats' to top 10 and 'Other'.\n",
            "Applied Frequency Encoding to 'seats'.\n",
            "Reduced categories in 'brand' to top 10 and 'Other'.\n",
            "Applied Frequency Encoding to 'brand'.\n",
            "Applied Frequency Encoding to 'country'.\n"
          ]
        }
      ]
    },
    {
      "cell_type": "markdown",
      "source": [
        "# 1.5 Scale Numerical Features\n"
      ],
      "metadata": {
        "id": "WMsQgBUgKkoB"
      }
    },
    {
      "cell_type": "code",
      "source": [
        "from sklearn.preprocessing import StandardScaler\n",
        "\n",
        "# Identify numerical features\n",
        "features_numeric = df.select_dtypes(include=['int64', 'float64']).columns.tolist()\n",
        "features_numeric .remove(target)\n",
        "\n",
        "# Convert numerical columns to float32\n",
        "for column in features_numeric :\n",
        "    df[column] = df[column].astype(np.float32)\n",
        "\n",
        "\n",
        "scaler = StandardScaler()\n",
        "\n",
        "df[features_numeric ] = scaler.fit_transform(df[features_numeric ])\n",
        "\n",
        "# Verify data types after scaling\n",
        "print(\"\\nData types of numerical columns after scaling:\")\n",
        "\n",
        "for col in features_numeric:\n",
        "    print(f\"Column '{col}' has data type: {df[col].dtype}\")"
      ],
      "metadata": {
        "colab": {
          "base_uri": "https://localhost:8080/"
        },
        "id": "sKocwaiBy9bj",
        "outputId": "5aebccce-0667-4079-d3c9-0541084350a3"
      },
      "execution_count": 235,
      "outputs": [
        {
          "output_type": "stream",
          "name": "stdout",
          "text": [
            "\n",
            "Data types of numerical columns after scaling:\n",
            "Column 'car name' has data type: float32\n",
            "Column 'price' has data type: float32\n",
            "Column 'engine_capacity' has data type: float32\n",
            "Column 'cylinder' has data type: float32\n",
            "Column 'horse_power' has data type: float32\n",
            "Column 'top_speed' has data type: float32\n",
            "Column 'seats' has data type: float32\n",
            "Column 'brand' has data type: float32\n",
            "Column 'country' has data type: float32\n"
          ]
        }
      ]
    },
    {
      "cell_type": "markdown",
      "source": [
        "# 1.6 Remove Duplicated and Highly Correlated Features\n"
      ],
      "metadata": {
        "id": "AMruQ_XSNXth"
      }
    },
    {
      "cell_type": "code",
      "source": [
        "# Separate features and target\n",
        "target = 'price_usd'\n",
        "X_original = df.drop(target, axis=1)\n",
        "y_original = df[target].values\n",
        "\n",
        "\n",
        "# Remove duplicated columns\n",
        "dup_columns = X_original.columns[X_original.T.duplicated()].tolist()\n",
        "if dup_columns:\n",
        "    X_original = X_original.drop(columns=dup_columns)\n",
        "    print(f\"Dropped the duplicated columns: {dup_columns}\")\n",
        "else:\n",
        "    print(\"No duplicated columns\")\n",
        "\n",
        "\n",
        "matrix_correlated = X_original.corr().abs()\n",
        "upper = matrix_correlated.where(np.triu(np.ones(matrix_correlated.shape), k=1).astype(bool))\n",
        "drop_feature = [column for column in upper.columns if any(upper[column] > 0.95)]\n",
        "if drop_feature:\n",
        "    X_original = X_original.drop(columns=drop_feature)\n",
        "    print(f\"Dropped highly correlated features: {drop_feature}\")\n",
        "else:\n",
        "    print(\"No highly correlated features found.\")"
      ],
      "metadata": {
        "colab": {
          "base_uri": "https://localhost:8080/"
        },
        "id": "H86s9VsD0Acl",
        "outputId": "e04351be-8707-4bdc-cf96-ecdd40464ad6"
      },
      "execution_count": 236,
      "outputs": [
        {
          "output_type": "stream",
          "name": "stdout",
          "text": [
            "No duplicated columns\n",
            "No highly correlated features found.\n"
          ]
        }
      ]
    },
    {
      "cell_type": "markdown",
      "source": [
        "# 1.7 Split the Dataset into Training, Validation, and Test Sets\n"
      ],
      "metadata": {
        "id": "SWF-WlfzNVhW"
      }
    },
    {
      "cell_type": "code",
      "source": [
        "from sklearn.model_selection import train_test_split\n",
        "\n",
        "# Combine features and target into a single DataFrame\n",
        "dataset = X_original.copy()  # Make a copy of the original features\n",
        "dataset[target] = y_original\n",
        "\n",
        "# Initial split: 60% training, 40% remaining\n",
        "train_set, temp_set = train_test_split(dataset, test_size=0.4, random_state=42)\n",
        "\n",
        "# Further split the remaining 40%: 20% validation, 20% testing\n",
        "val_set, test_set = train_test_split(temp_set, test_size=0.5, random_state=42)\n",
        "\n",
        "# Save the datasets to CSV files\n",
        "train_set.to_csv('train_data.csv', index=False)\n",
        "val_set.to_csv('validation_data.csv', index=False)\n",
        "test_set.to_csv('test_data.csv', index=False)\n",
        "\n",
        "print(\"\\nDataset split completed. Files saved: 'train_data.csv', 'validation_data.csv', 'test_data.csv'.\")\n"
      ],
      "metadata": {
        "colab": {
          "base_uri": "https://localhost:8080/"
        },
        "id": "VBL39lzH1Prm",
        "outputId": "0568cf28-794a-4ab9-9cfc-50eac549b72c"
      },
      "execution_count": 237,
      "outputs": [
        {
          "output_type": "stream",
          "name": "stdout",
          "text": [
            "\n",
            "Dataset split completed. Files saved: 'train_data.csv', 'validation_data.csv', 'test_data.csv'.\n"
          ]
        }
      ]
    },
    {
      "cell_type": "markdown",
      "source": [
        "# 2. Building Regression Models\n",
        "# 2.1 Load Preprocessed Data"
      ],
      "metadata": {
        "id": "_q413dAhNR-w"
      }
    },
    {
      "cell_type": "code",
      "source": [
        "# Load preprocessed datasets\n",
        "train_data = pd.read_csv('train_data.csv')\n",
        "validation_data = pd.read_csv('validation_data.csv')\n",
        "test_data = pd.read_csv('test_data.csv')\n",
        "\n",
        "# Separate features and target\n",
        "X_training = train_data.drop(target, axis=1).values\n",
        "y_training = train_data[target].values\n",
        "\n",
        "X_val = validation_data.drop(target, axis=1).values\n",
        "y_val = validation_data[target].values\n",
        "\n",
        "X_test = test_data.drop(target, axis=1).values\n",
        "y_test = test_data[target].values\n"
      ],
      "metadata": {
        "id": "-rImcpKE1_pz"
      },
      "execution_count": 238,
      "outputs": []
    },
    {
      "cell_type": "markdown",
      "source": [
        "# 2.2 Define Regression Models\n",
        "# 2.2.1 Linear Regression - Closed-form Solution\n",
        "  "
      ],
      "metadata": {
        "id": "0a3lukwjMVwQ"
      }
    },
    {
      "cell_type": "code",
      "source": [
        "import numpy as np\n",
        "from sklearn.metrics import mean_squared_error, mean_absolute_error, r2_score\n",
        "\n",
        "# Linear Regression using Closed-form Solution\n",
        "class LinearRegressionModelClosedForm:\n",
        "    def __init__(self):\n",
        "        self.weights = None\n",
        "        self.bias = None\n",
        "\n",
        "    def fiting(self, X, y):\n",
        "        # Add bias term\n",
        "        X_b = np.c_[np.ones((X.shape[0], 1)), X]\n",
        "        # Closed-form solution using pseudo-inverse\n",
        "        theta_best = np.linalg.pinv(X_b).dot(y)\n",
        "        self.bias = theta_best[0]\n",
        "        self.weights = theta_best[1:]\n",
        "\n",
        "    def pred(self, X):\n",
        "        return X.dot(self.weights) + self.bias\n",
        "\n",
        "# Train the model\n",
        "linear_cf = LinearRegressionModelClosedForm()\n",
        "linear_cf.fiting(X_training, y_training)\n",
        "y_pred_cf = linear_cf.pred(X_val)\n",
        "\n",
        "# Calculate metrics\n",
        "mse_val = mean_squared_error(y_val, y_pred_cf)\n",
        "mae_val = mean_absolute_error(y_val, y_pred_cf)\n",
        "r2 = r2_score(y_val, y_pred_cf)\n",
        "\n",
        "# Scaling MSE and MAE\n",
        "mse = mse_val / np.var(y_val)\n",
        "range_y = np.max(y_val) - np.min(y_val)\n",
        "mae = mae_val / range_y\n",
        "\n",
        "# Print metrics\n",
        "print(\"Linear Regression (Closed-form) Metrics:\")\n",
        "print(f\"Mean Squared Error (MSE): {mse:.4f}\")\n",
        "print(f\"Mean Absolute Error (MAE): {mae:.4f}\")\n",
        "print(f\"R2 Score: {r2:.4f}\")\n"
      ],
      "metadata": {
        "colab": {
          "base_uri": "https://localhost:8080/"
        },
        "id": "gXRBkGDT2raS",
        "outputId": "5d4ba8e6-774b-472a-a28c-1a183f4b2227"
      },
      "execution_count": 258,
      "outputs": [
        {
          "output_type": "stream",
          "name": "stdout",
          "text": [
            "Linear Regression (Closed-form) Metrics:\n",
            "Mean Squared Error (MSE): 0.6872\n",
            "Mean Absolute Error (MAE): 0.0082\n",
            "R2 Score: 0.3128\n"
          ]
        }
      ]
    },
    {
      "cell_type": "markdown",
      "source": [
        "# Scaling the features using MinMaxScaler"
      ],
      "metadata": {
        "id": "ECqOpilbR8Ob"
      }
    },
    {
      "cell_type": "code",
      "source": [
        "from sklearn.preprocessing import MinMaxScaler\n",
        "\n",
        "\n",
        "# Scaling the features using MinMaxScaler\n",
        "scaler = MinMaxScaler(feature_range=(-1, 1))\n",
        "\n",
        "# Scale the features\n",
        "X_train_scaled = scaler.fit_transform(X_training)  # Scale training features\n",
        "X_val_scaled = scaler.transform(X_val)  # Apply scaling to validation features\n",
        "\n",
        "# Optionally, scale the target variable\n",
        "target_scaler = MinMaxScaler(feature_range=(-1, 1))\n",
        "y_train_scaled = target_scaler.fit_transform(y_training.reshape(-1, 1)).flatten()  # Scale target for training\n",
        "y_val_scaled = target_scaler.transform(y_val.reshape(-1, 1)).flatten()  # Scale target for validation"
      ],
      "metadata": {
        "id": "mHVFPMRYR78V"
      },
      "execution_count": 240,
      "outputs": []
    },
    {
      "cell_type": "markdown",
      "source": [
        "# # 2.2.2 Linear Regression - Gradient Descent\n"
      ],
      "metadata": {
        "id": "qXIsv4aWOnGB"
      }
    },
    {
      "cell_type": "code",
      "source": [
        "from sklearn.preprocessing import MinMaxScaler\n",
        "from sklearn.metrics import mean_squared_error, mean_absolute_error, r2_score\n",
        "import numpy as np\n",
        "\n",
        "# Linear Regression using Gradient Descent\n",
        "class GradientDescentLinearRegressor:\n",
        "    def __init__(self, lr=0.01, epochs=1000, gradient_clip=1.0):\n",
        "        self.lr = lr\n",
        "        self.epochs = epochs\n",
        "        self.gradient_clip = gradient_clip\n",
        "        self.coefficients = None\n",
        "        self.intercept = None\n",
        "\n",
        "    def fit(self, features, target):\n",
        "        n_samples, n_features = features.shape\n",
        "        # Initialize weights and bias\n",
        "        self.coefficients = np.zeros(n_features)\n",
        "        self.intercept = 0\n",
        "\n",
        "        # Gradient Descent Loop\n",
        "        for epoch in range(self.epochs):\n",
        "            # Predictions\n",
        "            predictions = features.dot(self.coefficients) + self.intercept\n",
        "            # Compute gradients\n",
        "            gradient_weights = (1 / n_samples) * features.T.dot(predictions - target)\n",
        "            gradient_bias = (1 / n_samples) * np.sum(predictions - target)\n",
        "            # Clip gradients\n",
        "            gradient_weights = np.clip(gradient_weights, -self.gradient_clip, self.gradient_clip)\n",
        "            gradient_bias = np.clip(gradient_bias, -self.gradient_clip, self.gradient_clip)\n",
        "            # Update weights and bias\n",
        "            self.coefficients -= self.lr * gradient_weights\n",
        "            self.intercept -= self.lr * gradient_bias\n",
        "\n",
        "    def predict(self, features):\n",
        "        return features.dot(self.coefficients) + self.intercept\n",
        "\n",
        "# Train the model\n",
        "gd_regressor = GradientDescentLinearRegressor(lr=0.01, epochs=10000)\n",
        "gd_regressor.fit(X_train_scaled, y_train_scaled)\n",
        "y_predicted_scaled = gd_regressor.predict(X_val_scaled)\n",
        "\n",
        "# Evaluate model performance\n",
        "mse_val = mean_squared_error(y_val_scaled, y_predicted_scaled)\n",
        "mae_val = mean_absolute_error(y_val_scaled, y_predicted_scaled)\n",
        "r2_val = r2_score(y_val_scaled, y_predicted_scaled)\n",
        "\n",
        "# Output the metrics\n",
        "print(\"\\nLinear Regression (Gradient Descent) Performance:\")\n",
        "print(f\"Mean Squared Error (MSE): {mse_val:.4f}\")\n",
        "print(f\"Mean Absolute Error (MAE): {mae_val:.4f}\")\n",
        "print(f\"R² Score: {r2_val:.4f}\")\n"
      ],
      "metadata": {
        "colab": {
          "base_uri": "https://localhost:8080/"
        },
        "id": "b-VgffYi46x3",
        "outputId": "dc4b7ff7-b620-4dc2-985c-4fd8cc1962f8"
      },
      "execution_count": 259,
      "outputs": [
        {
          "output_type": "stream",
          "name": "stdout",
          "text": [
            "\n",
            "Linear Regression (Gradient Descent) Performance:\n",
            "Mean Squared Error (MSE): 0.0123\n",
            "Mean Absolute Error (MAE): 0.0277\n",
            "R² Score: 0.3189\n"
          ]
        }
      ]
    },
    {
      "cell_type": "markdown",
      "source": [
        "# 2.2.3 LASSO Regression"
      ],
      "metadata": {
        "id": "LjbasX6iPlwE"
      }
    },
    {
      "cell_type": "code",
      "source": [
        "from sklearn.linear_model import Lasso\n",
        "from sklearn.linear_model import LassoCV\n",
        "from sklearn.preprocessing import MinMaxScaler\n",
        "from sklearn.metrics import mean_squared_error, mean_absolute_error, r2_score\n",
        "\n",
        "print(\"\\nTuning and fitting the LASSO Regression model...\")\n",
        "\n",
        "# Automatically tune alpha using cross-validation with LassoCV\n",
        "lasso_cv = LassoCV(alphas=None, cv=10, max_iter=10000)\n",
        "lasso_cv.fit(X_train_scaled, y_train_scaled)\n",
        "\n",
        "# Get the best alpha value from cross-validation\n",
        "best_alpha = lasso_cv.alpha_\n",
        "\n",
        "print(f\"Best Alpha from LassoCV: {best_alpha:.4f}\")\n",
        "\n",
        "# Fit the LASSO model with the best alpha\n",
        "lasso_model = Lasso(alpha=best_alpha, max_iter=10000)\n",
        "lasso_model.fit(X_train_scaled, y_train_scaled)\n",
        "\n",
        "# Make predictions on the validation set\n",
        "lasso_predictions = lasso_model.predict(X_val_scaled)\n",
        "\n",
        "# Calculate metrics\n",
        "mse_lasso_val = mean_squared_error(y_val_scaled, lasso_predictions)\n",
        "mae_lasso_val = mean_absolute_error(y_val_scaled, lasso_predictions)\n",
        "r2_lasso_val = r2_score(y_val_scaled, lasso_predictions)\n",
        "\n",
        "# Print the LASSO regression metrics\n",
        "print(\"LASSO Regression Metrics with Best Alpha:\")\n",
        "print(f\"Mean Squared Error (MSE): {mse_lasso_val:.4f}\")\n",
        "print(f\"Mean Absolute Error (MAE): {mae_lasso_val:.4f}\")\n",
        "print(f\"R2 Score: {r2_lasso_val:.4f}\")"
      ],
      "metadata": {
        "colab": {
          "base_uri": "https://localhost:8080/"
        },
        "id": "1PFQ8NLo5iX6",
        "outputId": "f3ae84f5-fd84-4b7f-aecb-89f6b04c3d96"
      },
      "execution_count": 242,
      "outputs": [
        {
          "output_type": "stream",
          "name": "stdout",
          "text": [
            "\n",
            "Tuning and fitting the LASSO Regression model...\n",
            "Best Alpha from LassoCV: 0.0015\n",
            "LASSO Regression Metrics with Best Alpha:\n",
            "Mean Squared Error (MSE): 0.0135\n",
            "Mean Absolute Error (MAE): 0.0273\n",
            "R2 Score: 0.2546\n"
          ]
        }
      ]
    },
    {
      "cell_type": "markdown",
      "source": [
        "# 2.2.4 Ridge Regression"
      ],
      "metadata": {
        "id": "br85041aSJKq"
      }
    },
    {
      "cell_type": "code",
      "source": [
        "from sklearn.linear_model import Ridge\n",
        "from sklearn.preprocessing import MinMaxScaler\n",
        "from sklearn.metrics import mean_squared_error, mean_absolute_error, r2_score\n",
        "\n",
        "# Train Ridge Regression\n",
        "print(\"\\nTraining Ridge Regression...\")\n",
        "ridge_model = Ridge(alpha=1.0)\n",
        "ridge_model.fit(X_train_scaled, y_train_scaled)\n",
        "y_pred_ridge = ridge_model.predict(X_val_scaled)\n",
        "\n",
        "# Calculate metrics\n",
        "mse_ridge_val = mean_squared_error(y_val_scaled, y_pred_ridge)\n",
        "mae_ridge_val = mean_absolute_error(y_val_scaled, y_pred_ridge)\n",
        "r2_ridge_val = r2_score(y_val_scaled, y_pred_ridge)\n",
        "\n",
        "print(\"Ridge Regression Metrics:\")\n",
        "print(f\"Mean Squared Error (MSE): {mse_ridge_val:.4f}\")\n",
        "print(f\"Mean Absolute Error (MAE): {mae_ridge_val:.4f}\")\n",
        "print(f\"R2 Score: {r2_ridge_val:.4f}\")\n"
      ],
      "metadata": {
        "colab": {
          "base_uri": "https://localhost:8080/"
        },
        "id": "vOVNreVs6nyW",
        "outputId": "b7055766-208f-4584-cdfe-90ce627b32c3"
      },
      "execution_count": 243,
      "outputs": [
        {
          "output_type": "stream",
          "name": "stdout",
          "text": [
            "\n",
            "Training Ridge Regression...\n",
            "Ridge Regression Metrics:\n",
            "Mean Squared Error (MSE): 0.0124\n",
            "Mean Absolute Error (MAE): 0.0265\n",
            "R2 Score: 0.3172\n"
          ]
        }
      ]
    },
    {
      "cell_type": "markdown",
      "source": [
        "# Train Polynomial Regression for degrees 2 to 10"
      ],
      "metadata": {
        "id": "4mckIxNOSPZc"
      }
    },
    {
      "cell_type": "code",
      "source": [
        "from sklearn.preprocessing import PolynomialFeatures, MinMaxScaler\n",
        "from sklearn.metrics import mean_squared_error, mean_absolute_error, r2_score\n",
        "from sklearn.linear_model import LinearRegression\n",
        "\n",
        "# Train Polynomial Regression for degrees 2 to 10\n",
        "print(\"\\nTraining Polynomial Regression (Degrees 2 to 10)...\")\n",
        "optimal_degree = None\n",
        "lowest_mse = float('inf')\n",
        "\n",
        "for degree in range(2, 11):\n",
        "    print(f\"\\nEvaluating Polynomial Regression for Degree {degree}...\")\n",
        "\n",
        "    # Generate polynomial features\n",
        "    poly_transformer = PolynomialFeatures(degree=degree, include_bias=False)\n",
        "    X_train_poly_features = poly_transformer.fit_transform(X_train_scaled)  # Apply scaling to transformed features\n",
        "    X_val_poly_features = poly_transformer.transform(X_val_scaled)  # Apply scaling to transformed features\n",
        "\n",
        "    # Train Linear Regression on transformed features\n",
        "    linear_model = LinearRegression()  # Using LinearRegression instead of LinearRegressionModelClosedForm()\n",
        "    linear_model.fit(X_train_poly_features, y_train_scaled)\n",
        "\n",
        "    # Make predictions\n",
        "    predictions = linear_model.predict(X_val_poly_features)\n",
        "\n",
        "    # Compute metrics\n",
        "    mse = mean_squared_error(y_val_scaled, predictions)\n",
        "    mae = mean_absolute_error(y_val_scaled, predictions)\n",
        "    r2 = r2_score(y_val_scaled, predictions)\n",
        "\n",
        "    print(f\"Degree {degree} Metrics:\")\n",
        "    print(f\"  Mean Squared Error (MSE): {mse:.4f}\")\n",
        "    print(f\"  Mean Absolute Error (MAE): {mae:.4f}\")\n",
        "    print(f\"  R² Score: {r2:.4f}\")\n",
        "\n",
        "    # Update the best polynomial degree if necessary\n",
        "    if mse < lowest_mse:\n",
        "        optimal_degree = degree\n",
        "        lowest_mse = mse\n",
        "        optimal_mae = mae\n",
        "        optimal_r2 = r2\n",
        "\n",
        "# Output the best polynomial regression model results\n",
        "print(f\"\\nOptimal Polynomial Degree: {optimal_degree}\")\n",
        "print(f\"Metrics for the Best Model:\")\n",
        "print(f\"  Best MSE: {lowest_mse:.4f}\")\n",
        "print(f\"  Best MAE: {optimal_mae:.4f}\")\n",
        "print(f\"  Best R² Score: {optimal_r2:.4f}\")\n"
      ],
      "metadata": {
        "colab": {
          "base_uri": "https://localhost:8080/"
        },
        "id": "-dyKyG4k7Gd8",
        "outputId": "63c820cc-7630-49de-de04-07f481cf801d"
      },
      "execution_count": 244,
      "outputs": [
        {
          "output_type": "stream",
          "name": "stdout",
          "text": [
            "\n",
            "Training Polynomial Regression (Degrees 2 to 10)...\n",
            "\n",
            "Evaluating Polynomial Regression for Degree 2...\n",
            "Degree 2 Metrics:\n",
            "  Mean Squared Error (MSE): 0.0084\n",
            "  Mean Absolute Error (MAE): 0.0257\n",
            "  R² Score: 0.5340\n",
            "\n",
            "Evaluating Polynomial Regression for Degree 3...\n",
            "Degree 3 Metrics:\n",
            "  Mean Squared Error (MSE): 0.0462\n",
            "  Mean Absolute Error (MAE): 0.0231\n",
            "  R² Score: -1.5502\n",
            "\n",
            "Evaluating Polynomial Regression for Degree 4...\n",
            "Degree 4 Metrics:\n",
            "  Mean Squared Error (MSE): 79141411862309104.0000\n",
            "  Mean Absolute Error (MAE): 16418791.7381\n",
            "  R² Score: -4372824029111917056.0000\n",
            "\n",
            "Evaluating Polynomial Regression for Degree 5...\n",
            "Degree 5 Metrics:\n",
            "  Mean Squared Error (MSE): 215081640640457312.0000\n",
            "  Mean Absolute Error (MAE): 21917917.8733\n",
            "  R² Score: -11883970026333628416.0000\n",
            "\n",
            "Evaluating Polynomial Regression for Degree 6...\n",
            "Degree 6 Metrics:\n",
            "  Mean Squared Error (MSE): 2313489505203.4014\n",
            "  Mean Absolute Error (MAE): 146086.6928\n",
            "  R² Score: -127827925499387.5625\n",
            "\n",
            "Evaluating Polynomial Regression for Degree 7...\n",
            "Degree 7 Metrics:\n",
            "  Mean Squared Error (MSE): 13338695715557980.0000\n",
            "  Mean Absolute Error (MAE): 7794964.6599\n",
            "  R² Score: -737006931888999552.0000\n",
            "\n",
            "Evaluating Polynomial Regression for Degree 8...\n",
            "Degree 8 Metrics:\n",
            "  Mean Squared Error (MSE): 1247953604516724992.0000\n",
            "  Mean Absolute Error (MAE): 68723253.5044\n",
            "  R² Score: -68953552642475491328.0000\n",
            "\n",
            "Evaluating Polynomial Regression for Degree 9...\n",
            "Degree 9 Metrics:\n",
            "  Mean Squared Error (MSE): 43057978441910984.0000\n",
            "  Mean Absolute Error (MAE): 12240743.7511\n",
            "  R² Score: -2379095322476063744.0000\n",
            "\n",
            "Evaluating Polynomial Regression for Degree 10...\n",
            "Degree 10 Metrics:\n",
            "  Mean Squared Error (MSE): 2826384343531396.5000\n",
            "  Mean Absolute Error (MAE): 3374941.9949\n",
            "  R² Score: -156167056943621184.0000\n",
            "\n",
            "Optimal Polynomial Degree: 2\n",
            "Metrics for the Best Model:\n",
            "  Best MSE: 0.0084\n",
            "  Best MAE: 0.0257\n",
            "  Best R² Score: 0.5340\n"
          ]
        }
      ]
    },
    {
      "cell_type": "markdown",
      "source": [
        "# scaler the feature"
      ],
      "metadata": {
        "id": "2ocazDk8WS0C"
      }
    },
    {
      "cell_type": "code",
      "source": [
        "from sklearn.preprocessing import MinMaxScaler\n",
        "\n",
        "scaler = MinMaxScaler(feature_range=(-1, 1))  # Min-Max Scaler for features\n",
        "X_training_scaled = scaler.fit_transform(X_training)\n",
        "X_val_scaled = scaler.transform(X_val)\n",
        "\n",
        "target_scaler = MinMaxScaler(feature_range=(-1, 1))  # Min-Max Scaler for the target variable\n",
        "y_training_scaled = target_scaler.fit_transform(y_training.reshape(-1, 1)).flatten()\n",
        "y_val_scaled = target_scaler.transform(y_val.reshape(-1, 1)).flatten()"
      ],
      "metadata": {
        "id": "X6x71ZhqTf0M"
      },
      "execution_count": 245,
      "outputs": []
    },
    {
      "cell_type": "markdown",
      "source": [
        "# # 2.2.6 Radial Basis Function (RBF) Regression\n"
      ],
      "metadata": {
        "id": "UVMlx76uWR-P"
      }
    },
    {
      "cell_type": "code",
      "source": [
        "from sklearn.kernel_approximation import RBFSampler\n",
        "from sklearn.preprocessing import MinMaxScaler\n",
        "from sklearn.linear_model import LinearRegression\n",
        "from sklearn.metrics import mean_squared_error, mean_absolute_error, r2_score\n",
        "\n",
        "\n",
        "# Train RBF Regression\n",
        "print(\"\\nTraining Radial Basis Function (RBF) Regression...\")\n",
        "rbf_feature = RBFSampler(gamma=1, n_components=50, random_state=42)\n",
        "X_train_rbf = rbf_feature.fit_transform(X_training_scaled)  # Apply scaling before RBF transformation\n",
        "X_rbf = rbf_feature.transform(X_val_scaled)  # Apply scaling before RBF transformation\n",
        "\n",
        "# Fit linear regression on RBF features\n",
        "rbf_reg = LinearRegression()  # Using LinearRegression instead of LinearRegressionModelClosedForm()\n",
        "rbf_reg.fit(X_train_rbf, y_training_scaled)\n",
        "\n",
        "# Predict on validation set\n",
        "y_pred_rbf = rbf_reg.predict(X_rbf)\n",
        "\n",
        "# Calculate metrics\n",
        "mse_rbf_val = mean_squared_error(y_val_scaled, y_pred_rbf)\n",
        "mae_rbf_val = mean_absolute_error(y_val_scaled, y_pred_rbf)\n",
        "r2_rbf_val = r2_score(y_val_scaled, y_pred_rbf)\n",
        "\n",
        "# Output RBF Regression metrics\n",
        "print(\"RBF Regression Metrics:\")\n",
        "print(f\"Mean Squared Error (MSE): {mse_rbf_val:.4f}\")\n",
        "print(f\"Mean Absolute Error (MAE): {mae_rbf_val:.4f}\")\n",
        "print(f\"R² Score: {r2_rbf_val:.4f}\")\n"
      ],
      "metadata": {
        "colab": {
          "base_uri": "https://localhost:8080/"
        },
        "id": "cc762WuY_RIF",
        "outputId": "f81949ee-00bb-456f-f771-86528c220ddc"
      },
      "execution_count": 246,
      "outputs": [
        {
          "output_type": "stream",
          "name": "stdout",
          "text": [
            "\n",
            "Training Radial Basis Function (RBF) Regression...\n",
            "RBF Regression Metrics:\n",
            "Mean Squared Error (MSE): 0.0128\n",
            "Mean Absolute Error (MAE): 0.0316\n",
            "R² Score: 0.2933\n"
          ]
        }
      ]
    },
    {
      "cell_type": "markdown",
      "source": [
        "# 3. Summary of Model Performance"
      ],
      "metadata": {
        "id": "3HFUFjV9SbQ5"
      }
    },
    {
      "cell_type": "code",
      "source": [
        "# Compile metrics into a dictionary\n",
        "metrics_dict = {\n",
        "    'Model': ['Linear_CF', 'Linear_GD', 'LASSO', 'Ridge', f'Polynomial_Degree_{optimal_degree}', 'RBF'],\n",
        "    'MSE': [mse, mse_val, mse_lasso_val, mse_ridge_val, lowest_mse, mse_rbf_val],\n",
        "    'MAE': [mae, mae_val, mae_lasso_val, mae_ridge_val, optimal_mae, mae_rbf_val],\n",
        "    'R2 Score': [r2, r2_val, r2_lasso_val, r2_ridge_val, optimal_r2, r2_rbf_val]\n",
        "}\n",
        "\n",
        "# Create a DataFrame\n",
        "metrics_df = pd.DataFrame(metrics_dict)\n",
        "\n",
        "# Display the metrics\n",
        "print(\"\\nModel Performance on Validation Set:\")\n",
        "print(metrics_df)"
      ],
      "metadata": {
        "colab": {
          "base_uri": "https://localhost:8080/"
        },
        "id": "LnRvZMd__-LP",
        "outputId": "961fe888-8ccd-406f-8bec-175aa999114d"
      },
      "execution_count": 260,
      "outputs": [
        {
          "output_type": "stream",
          "name": "stdout",
          "text": [
            "\n",
            "Model Performance on Validation Set:\n",
            "                 Model       MSE       MAE  R2 Score\n",
            "0            Linear_CF  0.687152  0.008224  0.312848\n",
            "1            Linear_GD  0.012328  0.027733  0.318856\n",
            "2                LASSO  0.013491  0.027298  0.254553\n",
            "3                Ridge  0.012358  0.026462  0.317185\n",
            "4  Polynomial_Degree_2  0.008433  0.025749  0.534038\n",
            "5                  RBF  0.012790  0.031634  0.293311\n"
          ]
        }
      ]
    },
    {
      "cell_type": "markdown",
      "source": [
        "# 4. Feature Selection with Forward Selection"
      ],
      "metadata": {
        "id": "XO-3VUEWSeDy"
      }
    },
    {
      "cell_type": "code",
      "source": [
        "from sklearn.preprocessing import MinMaxScaler\n",
        "from sklearn.metrics import mean_squared_error, mean_absolute_error, r2_score\n",
        "\n",
        "print(\"\\nStarting Forward Feature Selection...\")\n",
        "\n",
        "# Initialize variables\n",
        "remaining_features = list(range(X_training_scaled.shape[1]))\n",
        "selected_features = []\n",
        "best_mse = float('inf')\n",
        "\n",
        "while remaining_features:\n",
        "    best_feature = None\n",
        "\n",
        "    for feature in remaining_features:\n",
        "        # Evaluate with the current feature\n",
        "        features_to_try = selected_features + [feature]\n",
        "        X_train_fs = X_training_scaled[:, features_to_try]\n",
        "        X_val_fs = X_val_scaled[:, features_to_try]\n",
        "\n",
        "        # Train and validate the model\n",
        "        model = LinearRegressionModelClosedForm()\n",
        "        model.fiting(X_train_fs, y_training_scaled)\n",
        "        mse = mean_squared_error(y_val_scaled, model.pred(X_val_fs))\n",
        "\n",
        "        if mse < best_mse:\n",
        "            best_mse = mse\n",
        "            best_feature = feature\n",
        "\n",
        "    if best_feature is not None:\n",
        "        selected_features.append(best_feature)\n",
        "        remaining_features.remove(best_feature)\n",
        "        print(f\"Added feature index {best_feature}, MSE: {best_mse:.4f}\")\n",
        "    else:\n",
        "        print(\"No further improvement, stopping feature selection.\")\n",
        "        break\n",
        "\n",
        "# Display results\n",
        "print(\"\\nSelected features after forward selection:\")\n",
        "print(selected_features)\n",
        "\n",
        "# Retrain model with selected features\n",
        "X_train_fs = X_training_scaled[:, selected_features]\n",
        "X_val_fs = X_val_scaled[:, selected_features]\n",
        "\n",
        "model_fs = LinearRegressionModelClosedForm()\n",
        "model_fs.fiting(X_train_fs, y_training_scaled)\n",
        "y_pred_fs = model_fs.pred(X_val_fs)\n",
        "\n",
        "metrics_performance = {\n",
        "    \"MSE\": mean_squared_error(y_val_scaled, y_pred_fs),\n",
        "    \"MAE\": mean_absolute_error(y_val_scaled, y_pred_fs),\n",
        "    \"R² Score\": r2_score(y_val_scaled, y_pred_fs)\n",
        "}\n",
        "\n",
        "print(\"\\nForward Selection Model Metrics:\")\n",
        "for metric, value in metrics_performance.items():\n",
        "    print(f\"{metric}: {value:.4f}\")\n",
        "\n"
      ],
      "metadata": {
        "id": "aUVNIYHoOywL",
        "colab": {
          "base_uri": "https://localhost:8080/"
        },
        "outputId": "e15b3bf2-99cb-4543-888d-aa8f687708d8"
      },
      "execution_count": 248,
      "outputs": [
        {
          "output_type": "stream",
          "name": "stdout",
          "text": [
            "\n",
            "Starting Forward Feature Selection...\n",
            "Added feature index 4, MSE: 0.0137\n",
            "Added feature index 3, MSE: 0.0130\n",
            "Added feature index 5, MSE: 0.0126\n",
            "Added feature index 2, MSE: 0.0125\n",
            "Added feature index 7, MSE: 0.0125\n",
            "Added feature index 6, MSE: 0.0124\n",
            "Added feature index 8, MSE: 0.0124\n",
            "Added feature index 0, MSE: 0.0124\n",
            "Added feature index 1, MSE: 0.0124\n",
            "\n",
            "Selected features after forward selection:\n",
            "[4, 3, 5, 2, 7, 6, 8, 0, 1]\n",
            "\n",
            "Forward Selection Model Metrics:\n",
            "MSE: 0.0124\n",
            "MAE: 0.0266\n",
            "R² Score: 0.3128\n"
          ]
        }
      ]
    },
    {
      "cell_type": "markdown",
      "source": [
        "# 5. Applying Regularization Techniques\n",
        "# 5.1 LASSO Regression with Grid Search"
      ],
      "metadata": {
        "id": "w2sl8RxgX6JS"
      }
    },
    {
      "cell_type": "code",
      "source": [
        "from sklearn.model_selection import GridSearchCV\n",
        "from sklearn.linear_model import Lasso\n",
        "from sklearn.metrics import mean_squared_error, mean_absolute_error, r2_score\n",
        "from sklearn.preprocessing import MinMaxScaler\n",
        "\n",
        "\n",
        "def best_alph_lasso(X_train, y_train, alpha_values, cv_folds=5):\n",
        "\n",
        "    # Initialize LASSO model with a high number of iterations\n",
        "    lasso = Lasso(max_iter=10000)\n",
        "\n",
        "    param_grid = {'alpha': alpha_values}\n",
        "\n",
        "\n",
        "    grid_search = GridSearchCV(estimator=lasso, param_grid=param_grid, cv=cv_folds, scoring='neg_mean_squared_error', n_jobs=-1)\n",
        "\n",
        "    # Perform Grid Search\n",
        "    grid_search.fit(X_train, y_train)\n",
        "    BestAlpha = grid_search.best_params_['alpha']\n",
        "    print(f\"Best alpha found: {BestAlpha}\")\n",
        "    return BestAlpha\n",
        "\n",
        "\n",
        "def traningModel(X_train, y_train, alpha):\n",
        "\n",
        "    trainLasso = Lasso(alpha=alpha, max_iter=10000)\n",
        "    trainLasso.fit(X_train, y_train)\n",
        "    return trainLasso\n",
        "\n",
        "# Evaluate the Model\n",
        "def modelEvaluate(model, X_val, y_val):\n",
        "\n",
        "    predic = model.predict(X_val)\n",
        "\n",
        "    # Calculate metrics\n",
        "    mse = mean_squared_error(y_val, predic)\n",
        "    mae = mean_absolute_error(y_val, predic)\n",
        "    r2 = r2_score(y_val, predic)\n",
        "\n",
        "    print(\"LASSO Regression Performance on Validation Set:\")\n",
        "    print(f\"Mean Squared Error (MSE): {mse:.4f}\")\n",
        "    print(f\"Mean Absolute Error (MAE): {mae:.4f}\")\n",
        "    print(f\"R-squared (R2) Score: {r2:.4f}\")\n",
        "\n",
        "def main():\n",
        "\n",
        "    print(\"\\nApplying LASSO Regression with Grid Search...\")\n",
        "\n",
        "    alpha_values = [0.01, 0.1, 1, 10, 100]\n",
        "    BestAlpha = best_alph_lasso(X_training_scaled, y_training_scaled, alpha_values)\n",
        "    best_lasso_model = traningModel(X_training_scaled, y_training_scaled, BestAlpha)\n",
        "    modelEvaluate(best_lasso_model, X_val_scaled, y_val_scaled)\n",
        "\n",
        "if __name__ == \"__main__\":\n",
        "    main()\n",
        "\n"
      ],
      "metadata": {
        "colab": {
          "base_uri": "https://localhost:8080/"
        },
        "id": "Y03OZPJWlrx9",
        "outputId": "eabc5fb6-7d6e-4795-8044-99c5bf748fce"
      },
      "execution_count": 249,
      "outputs": [
        {
          "output_type": "stream",
          "name": "stdout",
          "text": [
            "\n",
            "Applying LASSO Regression with Grid Search...\n",
            "Best alpha found: 0.01\n",
            "LASSO Regression Performance on Validation Set:\n",
            "Mean Squared Error (MSE): 0.0155\n",
            "Mean Absolute Error (MAE): 0.0355\n",
            "R-squared (R2) Score: 0.1433\n"
          ]
        }
      ]
    },
    {
      "cell_type": "markdown",
      "source": [
        "# 5.2 Ridge Regression with Grid Search"
      ],
      "metadata": {
        "id": "NNE2p-H1X1o5"
      }
    },
    {
      "cell_type": "code",
      "source": [
        "from sklearn.model_selection import GridSearchCV\n",
        "from sklearn.linear_model import Ridge\n",
        "from sklearn.pipeline import Pipeline\n",
        "from sklearn.preprocessing import MinMaxScaler\n",
        "from sklearn.metrics import mean_squared_error, mean_absolute_error, r2_score\n",
        "\n",
        "# Define the Pipeline for Ridge\n",
        "pipeline = Pipeline([\n",
        "    ('scaler', MinMaxScaler(feature_range=(-1, 1))),\n",
        "    ('ridge', Ridge())  # Ridge regression model\n",
        "])\n",
        "\n",
        "param_grid = {'ridge__alpha': [0.01, 0.1, 1, 10, 100] }\n",
        "\n",
        "# Set up GridSearchCV\n",
        "grid_search = GridSearchCV(estimator=pipeline, param_grid=param_grid, cv=5, scoring='neg_mean_squared_error', n_jobs=-1, verbose=1 )\n",
        "\n",
        "print(\"\\nApplying Ridge Regression with Grid Search using Pipeline...\")\n",
        "grid_search.fit(X_training_scaled, y_training_scaled)\n",
        "\n",
        "# Best alpha found through GridSearchCV\n",
        "BestRigeAlpha = grid_search.best_params_['ridge__alpha']\n",
        "print(f\"Best alpha for Ridge Regression: {BestRigeAlpha}\")\n",
        "\n",
        "\n",
        "y_ridge_best = grid_search.predict(X_val_scaled)\n",
        "\n",
        "# Evaluate the Model on the Validation Set\n",
        "mse_ridge = mean_squared_error(y_val_scaled, y_ridge_best)\n",
        "mae_ridge = mean_absolute_error(y_val_scaled, y_ridge_best)\n",
        "r2_ridge = r2_score(y_val_scaled, y_ridge_best)\n",
        "\n",
        "print(\"\\nBest Ridge Regression Metrics on Validation Set:\")\n",
        "print(f\"Mean Squared Error (MSE): {mse_ridge:.4f}\")\n",
        "print(f\"Mean Absolute Error (MAE): {mae_ridge:.4f}\")\n",
        "print(f\"R-squared (R²) Score: {r2_ridge:.4f}\")\n"
      ],
      "metadata": {
        "colab": {
          "base_uri": "https://localhost:8080/"
        },
        "id": "Eokrinzll8In",
        "outputId": "329cec6f-9013-4d1d-eb50-97e743680748"
      },
      "execution_count": 250,
      "outputs": [
        {
          "output_type": "stream",
          "name": "stdout",
          "text": [
            "\n",
            "Applying Ridge Regression with Grid Search using Pipeline...\n",
            "Fitting 5 folds for each of 5 candidates, totalling 25 fits\n",
            "Best alpha for Ridge Regression: 100\n",
            "\n",
            "Best Ridge Regression Metrics on Validation Set:\n",
            "Mean Squared Error (MSE): 0.0140\n",
            "Mean Absolute Error (MAE): 0.0296\n",
            "R-squared (R²) Score: 0.2272\n"
          ]
        }
      ]
    },
    {
      "cell_type": "markdown",
      "source": [
        "# Scaler the test data feature"
      ],
      "metadata": {
        "id": "q_w5bTq9XW5W"
      }
    },
    {
      "cell_type": "code",
      "source": [
        "from sklearn.preprocessing import MinMaxScaler\n",
        "\n",
        "# Initialize the scalers for features and target variable\n",
        "scaler = MinMaxScaler(feature_range=(-1, 1))\n",
        "target_scaler = MinMaxScaler(feature_range=(-1, 1))\n",
        "\n",
        "# Scale features and target in a more compact manner\n",
        "X_training_scaled, X_val_scaled, X_test_scaled = (\n",
        "    scaler.fit_transform(X_training),\n",
        "    scaler.transform(X_val),\n",
        "    scaler.transform(X_test)\n",
        ")\n",
        "\n",
        "y_training_scaled, y_val_scaled, y_test_scaled = (\n",
        "    target_scaler.fit_transform(y_training.reshape(-1, 1)).flatten(),\n",
        "    target_scaler.transform(y_val.reshape(-1, 1)).flatten(),\n",
        "    target_scaler.transform(y_test.reshape(-1, 1)).flatten()\n",
        ")\n"
      ],
      "metadata": {
        "id": "-w5962msXYXp"
      },
      "execution_count": 251,
      "outputs": []
    },
    {
      "cell_type": "code",
      "source": [
        "from sklearn.metrics import mean_squared_error, mean_absolute_error, r2_score\n",
        "from sklearn.preprocessing import MinMaxScaler\n",
        "\n",
        "print(\"\\nHyperparameter Tuning for Linear Regression (Gradient Descent)...\")\n",
        "\n",
        "# Define the hyperparameters to tune\n",
        "params = {'learning_rate': [0.001, 0.005, 0.01, 0.05], 'epochs': [1000, 5000, 10000] }\n",
        "\n",
        "best_mse = float('inf')\n",
        "best_params = {}\n",
        "best_gd = None\n",
        "\n",
        "\n",
        "for lir in params['learning_rate']:\n",
        "    for num_epochs in params['epochs']:\n",
        "        print(f\"Training with learning_rate={lir}, epochs={num_epochs}\")\n",
        "\n",
        "        linear_grad = GradientDescentLinearRegressor(lr=lir, epochs=num_epochs)\n",
        "\n",
        "        # Fit the model\n",
        "        linear_grad.fit(X_training_scaled, y_training_scaled)\n",
        "        y_pred_gd = linear_grad.predict(X_val_scaled)\n",
        "\n",
        "        # Calculate the Mean Squared Error (MSE)\n",
        "        mse_grad = mean_squared_error(y_val_scaled, y_pred_gd)\n",
        "\n",
        "        # Update the best parameters\n",
        "        if mse_grad < best_mse:\n",
        "            best_mse = mse_grad\n",
        "            best_params = {'learning_rate': lir, 'epochs': num_epochs}\n",
        "            best_linear_gd = linear_grad  # Save the best model\n",
        "\n",
        "print(f\"\\nBest parameters for Linear Regression (Gradient Descent): {best_params}\")\n",
        "print(f\"Best MSE on Validation Set: {best_mse:.4f}\")\n",
        "\n",
        "# Evaluate the best model on the test set\n",
        "print(\"\\nEvaluating the Best Model on Test Set...\")\n",
        "\n",
        "y_test_pred = best_linear_gd.predict(X_test_scaled)\n",
        "\n",
        "# Calculate performance\n",
        "mse_li_test = mean_squared_error(y_test_scaled, y_test_pred)\n",
        "mae_li_test = mean_absolute_error(y_test_scaled, y_test_pred)\n",
        "r2_li_test = r2_score(y_test_scaled, y_test_pred)\n",
        "\n",
        "print(f\"Test Set Performance of the Best Linear Regression Model:\")\n",
        "print(f\"MSE: {mse_li_test:.4f}\")\n",
        "print(f\"MAE: {mae_li_test:.4f}\")\n",
        "print(f\"R2 Score: {r2_li_test:.4f}\")"
      ],
      "metadata": {
        "colab": {
          "base_uri": "https://localhost:8080/"
        },
        "id": "pqtPYbFcnoJf",
        "outputId": "3601ee66-0fe8-42ab-d9db-c6a64a4bf9d4"
      },
      "execution_count": 252,
      "outputs": [
        {
          "output_type": "stream",
          "name": "stdout",
          "text": [
            "\n",
            "Hyperparameter Tuning for Linear Regression (Gradient Descent)...\n",
            "Training with learning_rate=0.001, epochs=1000\n",
            "Training with learning_rate=0.001, epochs=5000\n",
            "Training with learning_rate=0.001, epochs=10000\n",
            "Training with learning_rate=0.005, epochs=1000\n",
            "Training with learning_rate=0.005, epochs=5000\n",
            "Training with learning_rate=0.005, epochs=10000\n",
            "Training with learning_rate=0.01, epochs=1000\n",
            "Training with learning_rate=0.01, epochs=5000\n",
            "Training with learning_rate=0.01, epochs=10000\n",
            "Training with learning_rate=0.05, epochs=1000\n",
            "Training with learning_rate=0.05, epochs=5000\n",
            "Training with learning_rate=0.05, epochs=10000\n",
            "\n",
            "Best parameters for Linear Regression (Gradient Descent): {'learning_rate': 0.05, 'epochs': 5000}\n",
            "Best MSE on Validation Set: 0.0123\n",
            "\n",
            "Evaluating the Best Model on Test Set...\n",
            "Test Set Performance of the Best Linear Regression Model:\n",
            "MSE: 0.0036\n",
            "MAE: 0.0235\n",
            "R2 Score: 0.5653\n"
          ]
        }
      ]
    },
    {
      "cell_type": "markdown",
      "source": [
        "# 6.2 Polynomial Regression"
      ],
      "metadata": {
        "id": "0VxHk4qHYMcD"
      }
    },
    {
      "cell_type": "code",
      "source": [
        "import numpy as np\n",
        "from sklearn.preprocessing import PolynomialFeatures, MinMaxScaler\n",
        "from sklearn.metrics import mean_squared_error, mean_absolute_error, r2_score\n",
        "\n",
        "print(\"\\nHyperparameter Tuning for Polynomial Regression...\")\n",
        "\n",
        "# Hyperparameter for tuning\n",
        "Polynomial_params = {'degree': list(range(2, 7))}\n",
        "\n",
        "\n",
        "best_polynomial_mse = float('inf')\n",
        "best_polynomial_params = {}\n",
        "\n",
        "\n",
        "for degree in Polynomial_params['degree']:\n",
        "    print(f\"Training Polynomial Regression with degree={degree}\")\n",
        "\n",
        "    # Apply Polynomial Features transformation\n",
        "    polynomial = PolynomialFeatures(degree=degree, include_bias=False)\n",
        "    X_train_polynomial = polynomial.fit_transform(X_training_scaled)\n",
        "    X_val_polynomial = polynomial.transform(X_val_scaled)\n",
        "\n",
        "    # Fit linear regression on polynomial features\n",
        "    linear_reg = LinearRegressionModelClosedForm()\n",
        "    linear_reg.fiting(X_train_polynomial, y_training_scaled)\n",
        "\n",
        "    y_pred_poly = linear_reg.pred(X_val_polynomial)\n",
        "    mse_polynomial = mean_squared_error(y_val_scaled, y_pred_poly)\n",
        "\n",
        "    # Check for the best model\n",
        "    if mse_polynomial < best_poly_mse:\n",
        "        best_poly_mse = mse_polynomial\n",
        "        best_poly_params = {'degree': degree}\n",
        "        best_poly_mae = mean_absolute_error(y_val_scaled, y_pred_poly)\n",
        "        best_poly_r2 = r2_score(y_val_scaled, y_pred_poly)\n",
        "        best_poly_model = linear_reg\n",
        "        best_poly = polynomial\n",
        "\n",
        "# Output best hyperparameters and performance\n",
        "print(f\"Best degree for Polynomial Regression: {best_poly_params['degree']}\")\n",
        "print(f\"Best MSE: {best_poly_mse:.4f}\")\n",
        "print(f\"Best MAE: {best_poly_mae:.4f}\")\n",
        "print(f\"Best R2 Score: {best_poly_r2:.4f}\")\n",
        "\n",
        "\n",
        "print(\"\\nEvaluating the Best Polynomial Regression Model on Test Set...\")\n",
        "X_test_poly = best_poly.transform(X_test_scaled)\n",
        "y_test_pred_poly = best_poly_model.pred(X_test_poly)\n",
        "\n",
        "# Calculate performance metrics on the test set\n",
        "mse_test_polynomial = mean_squared_error(y_test_scaled, y_test_pred_poly)\n",
        "mae_test_polynomial = mean_absolute_error(y_test_scaled, y_test_pred_poly)\n",
        "r2_test_polynomial = r2_score(y_test_scaled, y_test_pred_poly)\n",
        "\n",
        "print(f\"Test Set Performance of the Best Polynomial Regression Model:\")\n",
        "print(f\"MSE: {mse_test_polynomial:.4f}\")\n",
        "print(f\"MAE: {mae_test_polynomial:.4f}\")\n",
        "print(f\"R2 Score: {r2_test_polynomial:.4f}\")"
      ],
      "metadata": {
        "colab": {
          "base_uri": "https://localhost:8080/"
        },
        "id": "Q4HOY3SbqyZc",
        "outputId": "e6904f19-ff39-4dae-ad9a-d4aa2f0e3574"
      },
      "execution_count": 253,
      "outputs": [
        {
          "output_type": "stream",
          "name": "stdout",
          "text": [
            "\n",
            "Hyperparameter Tuning for Polynomial Regression...\n",
            "Training Polynomial Regression with degree=2\n",
            "Training Polynomial Regression with degree=3\n",
            "Training Polynomial Regression with degree=4\n",
            "Training Polynomial Regression with degree=5\n",
            "Training Polynomial Regression with degree=6\n",
            "Best degree for Polynomial Regression: 2\n",
            "Best MSE: 0.0084\n",
            "Best MAE: 0.0258\n",
            "Best R2 Score: 0.5341\n",
            "\n",
            "Evaluating the Best Polynomial Regression Model on Test Set...\n",
            "Test Set Performance of the Best Polynomial Regression Model:\n",
            "MSE: 0.0038\n",
            "MAE: 0.0250\n",
            "R2 Score: 0.5400\n"
          ]
        }
      ]
    },
    {
      "cell_type": "markdown",
      "source": [
        "# 6.3 RBF Regression"
      ],
      "metadata": {
        "id": "L4RtH1lvYPW-"
      }
    },
    {
      "cell_type": "code",
      "source": [
        "import numpy as np\n",
        "import matplotlib.pyplot as plt\n",
        "from sklearn.kernel_approximation import RBFSampler\n",
        "from sklearn.metrics import mean_squared_error, mean_absolute_error, r2_score\n",
        "from sklearn.linear_model import LinearRegression\n",
        "from sklearn.preprocessing import MinMaxScaler\n",
        "\n",
        "results = []\n",
        "\n",
        "print(\"\\nHyperparameter Tuning for RBF Regression...\")\n",
        "\n",
        "# Define hyperparameter grid for tuning\n",
        "rbf_params = {\n",
        "    'gamma': [0.01, 0.1, 1, 10],\n",
        "    'n_components': [50, 100, 200]\n",
        "}\n",
        "\n",
        "best_RBF_mse = float('inf')\n",
        "best_RBF_params = {}\n",
        "\n",
        "# Hyperparameter tuning loop\n",
        "for gamma in rbf_params['gamma']:\n",
        "    for n_comp in rbf_params['n_components']:\n",
        "        print(f\"Training RBF Regression with gamma={gamma}, n_components={n_comp}\")\n",
        "\n",
        "        # Apply RBFSampler to map features to a higher-dimensional space\n",
        "        rbf_feature = RBFSampler(gamma=gamma, n_components=n_comp, random_state=42)\n",
        "        X_train_rbf = rbf_feature.fit_transform(X_training_scaled)  # Ensure X_training_scaled is pre-scaled\n",
        "        X_val_rbf = rbf_feature.transform(X_val_scaled)  # Ensure X_val_scaled is pre-scaled\n",
        "\n",
        "        # Initialize and fit the linear regression model\n",
        "        rbf_reg = LinearRegression()  # Use scikit-learn's LinearRegression\n",
        "        rbf_reg.fit(X_train_rbf, y_training_scaled)  # Ensure y_training_scaled is pre-scaled\n",
        "\n",
        "        # Predict on validation set\n",
        "        y_pred_rbf = rbf_reg.predict(X_val_rbf)\n",
        "\n",
        "        # Calculate metrics\n",
        "        mse_rbf = mean_squared_error(y_val_scaled, y_pred_rbf)\n",
        "        mae_rbf = mean_absolute_error(y_val_scaled, y_pred_rbf)\n",
        "        r2_rbf = r2_score(y_val_scaled, y_pred_rbf)\n",
        "\n",
        "        # Store the results\n",
        "        results.append({\n",
        "            'gamma': gamma,\n",
        "            'n_components': n_comp,\n",
        "            'MSE': mse_rbf,\n",
        "            'MAE': mae_rbf,\n",
        "            'R2': r2_rbf\n",
        "        })\n",
        "\n",
        "        # Update best parameters if current MSE is lower\n",
        "        if mse_rbf < best_RBF_mse:\n",
        "            best_RBF_mse = mse_rbf\n",
        "            best_RBF_params = {'gamma': gamma, 'n_components': n_comp}\n",
        "            best_rbf_mae = mae_rbf\n",
        "            best_rbf_r2 = r2_rbf\n",
        "            best_rbf_model = rbf_reg\n",
        "            best_rbf_feature = rbf_feature\n",
        "\n",
        "print(f\"\\nBest parameters for RBF Regression: {best_RBF_params}\")\n",
        "print(f\"Best MSE: {best_RBF_mse:.4f}\")\n",
        "print(f\"Best MAE: {best_rbf_mae:.4f}\")\n",
        "print(f\"Best R2 Score: {best_rbf_r2:.4f}\")\n",
        "\n",
        "print(\"\\nEvaluating the Best Model on Test Set...\")\n",
        "\n",
        "# Transform test set using the best RBF feature transformer\n",
        "X_test_rbf = best_rbf_feature.transform(X_test_scaled)\n",
        "\n",
        "# Predict on the scaled test set\n",
        "y_test_pred_rbf = best_rbf_model.predict(X_test_rbf)\n",
        "\n",
        "# Calculate performance metrics on the test set\n",
        "mse_test_RBF = mean_squared_error(y_test_scaled, y_test_pred_rbf)\n",
        "mae_test_RBF = mean_absolute_error(y_test_scaled, y_test_pred_rbf)\n",
        "r2_test_RBF = r2_score(y_test_scaled, y_test_pred_rbf)\n",
        "\n",
        "print(f\"Test Set Performance of the Best RBF Regression Model:\")\n",
        "print(f\"MSE: {mse_test_RBF:.4f}\")\n",
        "print(f\"MAE: {mae_test_RBF:.4f}\")\n",
        "print(f\"R2 Score: {r2_test_RBF:.4f}\")\n",
        "\n",
        "# Visualization of Actual vs Predicted values\n",
        "plt.figure(figsize=(10, 6))\n",
        "plt.scatter(y_test_scaled, y_test_pred_rbf, alpha=0.5)\n",
        "plt.plot([min(y_test_scaled), max(y_test_scaled)], [min(y_test_scaled), max(y_test_scaled)], color='red', linestyle='--')\n",
        "plt.xlabel('Actual Values')\n",
        "plt.ylabel('Predicted Values')\n",
        "plt.title('Actual vs Predicted Values for RBF Regression')\n",
        "plt.show()\n",
        "\n",
        "# Visualization of Residuals (errors)\n",
        "residuals = y_test_scaled - y_test_pred_rbf\n",
        "plt.figure(figsize=(10, 6))\n",
        "plt.hist(residuals, bins=30, edgecolor='black')\n",
        "plt.xlabel('Residuals')\n",
        "plt.ylabel('Frequency')\n",
        "plt.title('Distribution of Residuals (Actual - Predicted)')\n",
        "plt.show()"
      ],
      "metadata": {
        "colab": {
          "base_uri": "https://localhost:8080/",
          "height": 1000
        },
        "id": "zNpD_dM0rDnS",
        "outputId": "8dbb3ca5-6334-4e85-f789-4f3f14d931e9"
      },
      "execution_count": 254,
      "outputs": [
        {
          "output_type": "stream",
          "name": "stdout",
          "text": [
            "\n",
            "Hyperparameter Tuning for RBF Regression...\n",
            "Training RBF Regression with gamma=0.01, n_components=50\n",
            "Training RBF Regression with gamma=0.01, n_components=100\n",
            "Training RBF Regression with gamma=0.01, n_components=200\n",
            "Training RBF Regression with gamma=0.1, n_components=50\n",
            "Training RBF Regression with gamma=0.1, n_components=100\n",
            "Training RBF Regression with gamma=0.1, n_components=200\n",
            "Training RBF Regression with gamma=1, n_components=50\n",
            "Training RBF Regression with gamma=1, n_components=100\n",
            "Training RBF Regression with gamma=1, n_components=200\n",
            "Training RBF Regression with gamma=10, n_components=50\n",
            "Training RBF Regression with gamma=10, n_components=100\n",
            "Training RBF Regression with gamma=10, n_components=200\n",
            "\n",
            "Best parameters for RBF Regression: {'gamma': 0.1, 'n_components': 100}\n",
            "Best MSE: 0.0068\n",
            "Best MAE: 0.0237\n",
            "Best R2 Score: 0.6224\n",
            "\n",
            "Evaluating the Best Model on Test Set...\n",
            "Test Set Performance of the Best RBF Regression Model:\n",
            "MSE: 0.0037\n",
            "MAE: 0.0243\n",
            "R2 Score: 0.5429\n"
          ]
        },
        {
          "output_type": "display_data",
          "data": {
            "text/plain": [
              "<Figure size 1000x600 with 1 Axes>"
            ],
            "image/png": "[encoded data removed]"
          },
          "metadata": {}
        },
        {
          "output_type": "display_data",
          "data": {
            "text/plain": [
              "<Figure size 1000x600 with 1 Axes>"
            ],
            "image/png": "[encoded data removed]"
          },
          "metadata": {}
        }
      ]
    },
    {
      "cell_type": "markdown",
      "source": [
        "# 7. Model Evaluation on Test Set"
      ],
      "metadata": {
        "id": "47ENiBUpYRdM"
      }
    },
    {
      "cell_type": "code",
      "source": [
        "import numpy as np\n",
        "import matplotlib.pyplot as plt\n",
        "from sklearn.preprocessing import PolynomialFeatures, MinMaxScaler\n",
        "from sklearn.metrics import mean_squared_error, mean_absolute_error, r2_score\n",
        "from sklearn.linear_model import LinearRegression\n",
        "from sklearn.model_selection import learning_curve\n",
        "\n",
        "print(\"\\nEvaluating the Best Polynomial Regression Model on Test Set...\")\n",
        "\n",
        "# Scaling the features and target variable\n",
        "scaler = MinMaxScaler(feature_range=(-1, 1))\n",
        "X_trainf = np.vstack((X_training, X_val))\n",
        "y_train_full = np.concatenate((y_training, y_val))\n",
        "\n",
        "# Scaling training and test features\n",
        "X_train_fullScaled = scaler.fit_transform(X_trainf)\n",
        "X_test_scaled = scaler.transform(X_test)\n",
        "\n",
        "# Apply the best polynomial degree\n",
        "best_polynomial_full = PolynomialFeatures(degree=best_poly_params['degree'], include_bias=False)\n",
        "X_train_poly_full = best_polynomial_full.fit_transform(X_train_fullScaled)\n",
        "X_test_polynomial = best_polynomial_full.transform(X_test_scaled)\n",
        "\n",
        "# Scale the target variable\n",
        "target_scaler = MinMaxScaler(feature_range=(-1, 1))\n",
        "y_train_full_scaled = target_scaler.fit_transform(y_train_full.reshape(-1, 1)).flatten()\n",
        "y_test_scaled = target_scaler.transform(y_test.reshape(-1, 1)).flatten()\n",
        "\n",
        "# Train a linear regression model\n",
        "linier_reg = LinearRegression()\n",
        "linier_reg.fit(X_train_poly_full, y_train_full_scaled)\n",
        "\n",
        "# Make predictions\n",
        "y_test_prediction = linier_reg.predict(X_test_polynomial)\n",
        "\n",
        "# Evaluate on the test set for Polynomial Regression\n",
        "mse_test_val = mean_squared_error(y_test_scaled, y_test_prediction)\n",
        "mae_test_val = mean_absolute_error(y_test_scaled, y_test_prediction)\n",
        "r2_test_val = r2_score(y_test_scaled, y_test_prediction)\n",
        "\n",
        "# Display the evaluation metrics\n",
        "print(f\"\\nTest Set Performance of the Best Polynomial Regression Model (Degree {best_poly_params['degree']}):\")\n",
        "print(f\"MSE: {mse_test_val:.4f}\")\n",
        "print(f\"MAE: {mae_test_val:.4f}\")\n",
        "print(f\"R2 Score: {r2_test_val:.4f}\")\n",
        "\n",
        "# Visualization\n",
        "plt.figure(figsize=(10, 6))\n",
        "plt.scatter(y_test_scaled, y_test_prediction, alpha=0.5)\n",
        "plt.plot([min(y_test_scaled), max(y_test_scaled)], [min(y_test_scaled), max(y_test_scaled)], color='red', linestyle='--')\n",
        "plt.xlabel('Actual Values')\n",
        "plt.ylabel('Predicted Values')\n",
        "plt.title('Actual vs Predicted Values for Polynomial Regression')\n",
        "plt.show()\n",
        "\n",
        "\n",
        "residuals = y_test_scaled - y_test_prediction\n",
        "plt.figure(figsize=(10, 6))\n",
        "plt.hist(residuals, bins=30, edgecolor='black')\n",
        "plt.xlabel('Residuals')\n",
        "plt.ylabel('Frequency')\n",
        "plt.title('Distribution of Residuals (Actual - Predicted)')\n",
        "plt.show()"
      ],
      "metadata": {
        "colab": {
          "base_uri": "https://localhost:8080/",
          "height": 1000
        },
        "id": "tX1p3DIjrfKs",
        "outputId": "965b4f49-cb70-411f-d077-4a19b812aeaf"
      },
      "execution_count": 255,
      "outputs": [
        {
          "output_type": "stream",
          "name": "stdout",
          "text": [
            "\n",
            "Evaluating the Best Polynomial Regression Model on Test Set...\n",
            "\n",
            "Test Set Performance of the Best Polynomial Regression Model (Degree 2):\n",
            "MSE: 0.0011\n",
            "MAE: 0.0163\n",
            "R2 Score: 0.6455\n"
          ]
        },
        {
          "output_type": "display_data",
          "data": {
            "text/plain": [
              "<Figure size 1000x600 with 1 Axes>"
            ],
            "image/png": "[encoded data removed]"
          },
          "metadata": {}
        },
        {
          "output_type": "display_data",
          "data": {
            "text/plain": [
              "<Figure size 1000x600 with 1 Axes>"
            ],
            "image/png": "[encoded data removed]"
          },
          "metadata": {}
        }
      ]
    }
  ]
}