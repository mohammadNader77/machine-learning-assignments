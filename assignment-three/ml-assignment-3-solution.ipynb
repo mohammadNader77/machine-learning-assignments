{
  "nbformat": 4,
  "nbformat_minor": 0,
  "metadata": {
    "colab": {
      "provenance": []
    },
    "kernelspec": {
      "name": "python3",
      "display_name": "Python 3"
    },
    "language_info": {
      "name": "python"
    }
  },
  "cells": [
    {
      "cell_type": "markdown",
      "source": [
        "Import necessary libraries\n"
      ],
      "metadata": {
        "id": "I6iClMMVTl-F"
      }
    },
    {
      "cell_type": "code",
      "execution_count": null,
      "metadata": {
        "id": "ebfAz0GCTUZ3"
      },
      "outputs": [],
      "source": [
        "# Student1 Name : Ali Halayqa    ID : 1201769  Sec : 1\n",
        "# Student2 Name : Mohammad Shreteh    ID : 1201369  Sec : 3\n",
        "\n",
        "# Importing necessary libraries\n",
        "import numpy as np\n",
        "import pandas as pd\n",
        "import matplotlib.pyplot as plt\n",
        "import seaborn as sns\n",
        "\n",
        "# Scikit-learn modules\n",
        "from sklearn.model_selection import train_test_split, cross_val_score, GridSearchCV\n",
        "from sklearn.preprocessing import StandardScaler, LabelEncoder\n",
        "from sklearn.metrics import accuracy_score, precision_score, recall_score, f1_score, roc_auc_score, classification_report, confusion_matrix, roc_curve\n",
        "\n",
        "# Machine Learning Algorithms\n",
        "from sklearn.neighbors import KNeighborsClassifier\n",
        "from sklearn.linear_model import LogisticRegression\n",
        "from sklearn.svm import SVC\n",
        "from sklearn.ensemble import AdaBoostClassifier, RandomForestClassifier\n"
      ]
    },
    {
      "cell_type": "markdown",
      "source": [
        "Loading the Dataset"
      ],
      "metadata": {
        "id": "euG17T7OTiEM"
      }
    },
    {
      "cell_type": "code",
      "source": [
        "# Loading the dataset\n",
        "df = pd.read_csv('data.csv')\n",
        "df = df.drop(['Unnamed: 32'], axis=1)\n",
        "# Displaying the first few rows\n",
        "df.head()"
      ],
      "metadata": {
        "colab": {
          "base_uri": "https://localhost:8080/",
          "height": 273
        },
        "id": "W7X8QYNWTZ1y",
        "outputId": "a344a3b6-c8f6-422e-a417-a50d159079f6"
      },
      "execution_count": null,
      "outputs": [
        {
          "output_type": "execute_result",
          "data": {
            "text/plain": [
              "         id diagnosis  radius_mean  texture_mean  perimeter_mean  area_mean  \\\n",
              "0    842302         M        17.99         10.38          122.80     1001.0   \n",
              "1    842517         M        20.57         17.77          132.90     1326.0   \n",
              "2  84300903         M        19.69         21.25          130.00     1203.0   \n",
              "3  84348301         M        11.42         20.38           77.58      386.1   \n",
              "4  84358402         M        20.29         14.34          135.10     1297.0   \n",
              "\n",
              "   smoothness_mean  compactness_mean  concavity_mean  concave points_mean  \\\n",
              "0          0.11840           0.27760          0.3001              0.14710   \n",
              "1          0.08474           0.07864          0.0869              0.07017   \n",
              "2          0.10960           0.15990          0.1974              0.12790   \n",
              "3          0.14250           0.28390          0.2414              0.10520   \n",
              "4          0.10030           0.13280          0.1980              0.10430   \n",
              "\n",
              "   ...  radius_worst  texture_worst  perimeter_worst  area_worst  \\\n",
              "0  ...         25.38          17.33           184.60      2019.0   \n",
              "1  ...         24.99          23.41           158.80      1956.0   \n",
              "2  ...         23.57          25.53           152.50      1709.0   \n",
              "3  ...         14.91          26.50            98.87       567.7   \n",
              "4  ...         22.54          16.67           152.20      1575.0   \n",
              "\n",
              "   smoothness_worst  compactness_worst  concavity_worst  concave points_worst  \\\n",
              "0            0.1622             0.6656           0.7119                0.2654   \n",
              "1            0.1238             0.1866           0.2416                0.1860   \n",
              "2            0.1444             0.4245           0.4504                0.2430   \n",
              "3            0.2098             0.8663           0.6869                0.2575   \n",
              "4            0.1374             0.2050           0.4000                0.1625   \n",
              "\n",
              "   symmetry_worst  fractal_dimension_worst  \n",
              "0          0.4601                  0.11890  \n",
              "1          0.2750                  0.08902  \n",
              "2          0.3613                  0.08758  \n",
              "3          0.6638                  0.17300  \n",
              "4          0.2364                  0.07678  \n",
              "\n",
              "[5 rows x 32 columns]"
            ],
            "text/html": [
              "\n",
              "  <div id=\"df-eb1501bf-d658-417d-909b-238968983d6e\" class=\"colab-df-container\">\n",
              "    <div>\n",
              "<style scoped>\n",
              "    .dataframe tbody tr th:only-of-type {\n",
              "        vertical-align: middle;\n",
              "    }\n",
              "\n",
              "    .dataframe tbody tr th {\n",
              "        vertical-align: top;\n",
              "    }\n",
              "\n",
              "    .dataframe thead th {\n",
              "        text-align: right;\n",
              "    }\n",
              "</style>\n",
              "<table border=\"1\" class=\"dataframe\">\n",
              "  <thead>\n",
              "    <tr style=\"text-align: right;\">\n",
              "      <th></th>\n",
              "      <th>id</th>\n",
              "      <th>diagnosis</th>\n",
              "      <th>radius_mean</th>\n",
              "      <th>texture_mean</th>\n",
              "      <th>perimeter_mean</th>\n",
              "      <th>area_mean</th>\n",
              "      <th>smoothness_mean</th>\n",
              "      <th>compactness_mean</th>\n",
              "      <th>concavity_mean</th>\n",
              "      <th>concave points_mean</th>\n",
              "      <th>...</th>\n",
              "      <th>radius_worst</th>\n",
              "      <th>texture_worst</th>\n",
              "      <th>perimeter_worst</th>\n",
              "      <th>area_worst</th>\n",
              "      <th>smoothness_worst</th>\n",
              "      <th>compactness_worst</th>\n",
              "      <th>concavity_worst</th>\n",
              "      <th>concave points_worst</th>\n",
              "      <th>symmetry_worst</th>\n",
              "      <th>fractal_dimension_worst</th>\n",
              "    </tr>\n",
              "  </thead>\n",
              "  <tbody>\n",
              "    <tr>\n",
              "      <th>0</th>\n",
              "      <td>842302</td>\n",
              "      <td>M</td>\n",
              "      <td>17.99</td>\n",
              "      <td>10.38</td>\n",
              "      <td>122.80</td>\n",
              "      <td>1001.0</td>\n",
              "      <td>0.11840</td>\n",
              "      <td>0.27760</td>\n",
              "      <td>0.3001</td>\n",
              "      <td>0.14710</td>\n",
              "      <td>...</td>\n",
              "      <td>25.38</td>\n",
              "      <td>17.33</td>\n",
              "      <td>184.60</td>\n",
              "      <td>2019.0</td>\n",
              "      <td>0.1622</td>\n",
              "      <td>0.6656</td>\n",
              "      <td>0.7119</td>\n",
              "      <td>0.2654</td>\n",
              "      <td>0.4601</td>\n",
              "      <td>0.11890</td>\n",
              "    </tr>\n",
              "    <tr>\n",
              "      <th>1</th>\n",
              "      <td>842517</td>\n",
              "      <td>M</td>\n",
              "      <td>20.57</td>\n",
              "      <td>17.77</td>\n",
              "      <td>132.90</td>\n",
              "      <td>1326.0</td>\n",
              "      <td>0.08474</td>\n",
              "      <td>0.07864</td>\n",
              "      <td>0.0869</td>\n",
              "      <td>0.07017</td>\n",
              "      <td>...</td>\n",
              "      <td>24.99</td>\n",
              "      <td>23.41</td>\n",
              "      <td>158.80</td>\n",
              "      <td>1956.0</td>\n",
              "      <td>0.1238</td>\n",
              "      <td>0.1866</td>\n",
              "      <td>0.2416</td>\n",
              "      <td>0.1860</td>\n",
              "      <td>0.2750</td>\n",
              "      <td>0.08902</td>\n",
              "    </tr>\n",
              "    <tr>\n",
              "      <th>2</th>\n",
              "      <td>84300903</td>\n",
              "      <td>M</td>\n",
              "      <td>19.69</td>\n",
              "      <td>21.25</td>\n",
              "      <td>130.00</td>\n",
              "      <td>1203.0</td>\n",
              "      <td>0.10960</td>\n",
              "      <td>0.15990</td>\n",
              "      <td>0.1974</td>\n",
              "      <td>0.12790</td>\n",
              "      <td>...</td>\n",
              "      <td>23.57</td>\n",
              "      <td>25.53</td>\n",
              "      <td>152.50</td>\n",
              "      <td>1709.0</td>\n",
              "      <td>0.1444</td>\n",
              "      <td>0.4245</td>\n",
              "      <td>0.4504</td>\n",
              "      <td>0.2430</td>\n",
              "      <td>0.3613</td>\n",
              "      <td>0.08758</td>\n",
              "    </tr>\n",
              "    <tr>\n",
              "      <th>3</th>\n",
              "      <td>84348301</td>\n",
              "      <td>M</td>\n",
              "      <td>11.42</td>\n",
              "      <td>20.38</td>\n",
              "      <td>77.58</td>\n",
              "      <td>386.1</td>\n",
              "      <td>0.14250</td>\n",
              "      <td>0.28390</td>\n",
              "      <td>0.2414</td>\n",
              "      <td>0.10520</td>\n",
              "      <td>...</td>\n",
              "      <td>14.91</td>\n",
              "      <td>26.50</td>\n",
              "      <td>98.87</td>\n",
              "      <td>567.7</td>\n",
              "      <td>0.2098</td>\n",
              "      <td>0.8663</td>\n",
              "      <td>0.6869</td>\n",
              "      <td>0.2575</td>\n",
              "      <td>0.6638</td>\n",
              "      <td>0.17300</td>\n",
              "    </tr>\n",
              "    <tr>\n",
              "      <th>4</th>\n",
              "      <td>84358402</td>\n",
              "      <td>M</td>\n",
              "      <td>20.29</td>\n",
              "      <td>14.34</td>\n",
              "      <td>135.10</td>\n",
              "      <td>1297.0</td>\n",
              "      <td>0.10030</td>\n",
              "      <td>0.13280</td>\n",
              "      <td>0.1980</td>\n",
              "      <td>0.10430</td>\n",
              "      <td>...</td>\n",
              "      <td>22.54</td>\n",
              "      <td>16.67</td>\n",
              "      <td>152.20</td>\n",
              "      <td>1575.0</td>\n",
              "      <td>0.1374</td>\n",
              "      <td>0.2050</td>\n",
              "      <td>0.4000</td>\n",
              "      <td>0.1625</td>\n",
              "      <td>0.2364</td>\n",
              "      <td>0.07678</td>\n",
              "    </tr>\n",
              "  </tbody>\n",
              "</table>\n",
              "<p>5 rows × 32 columns</p>\n",
              "</div>\n",
              "    <div class=\"colab-df-buttons\">\n",
              "\n",
              "  <div class=\"colab-df-container\">\n",
              "    <button class=\"colab-df-convert\" onclick=\"convertToInteractive('df-eb1501bf-d658-417d-909b-238968983d6e')\"\n",
              "            title=\"Convert this dataframe to an interactive table.\"\n",
              "            style=\"display:none;\">\n",
              "\n",
              "  <svg xmlns=\"http://www.w3.org/2000/svg\" height=\"24px\" viewBox=\"0 -960 960 960\">\n",
              "    <path d=\"M120-120v-720h720v720H120Zm60-500h600v-160H180v160Zm220 220h160v-160H400v160Zm0 220h160v-160H400v160ZM180-400h160v-160H180v160Zm440 0h160v-160H620v160ZM180-180h160v-160H180v160Zm440 0h160v-160H620v160Z\"/>\n",
              "  </svg>\n",
              "    </button>\n",
              "\n",
              "  <style>\n",
              "    .colab-df-container {\n",
              "      display:flex;\n",
              "      gap: 12px;\n",
              "    }\n",
              "\n",
              "    .colab-df-convert {\n",
              "      background-color: #E8F0FE;\n",
              "      border: none;\n",
              "      border-radius: 50%;\n",
              "      cursor: pointer;\n",
              "      display: none;\n",
              "      fill: #1967D2;\n",
              "      height: 32px;\n",
              "      padding: 0 0 0 0;\n",
              "      width: 32px;\n",
              "    }\n",
              "\n",
              "    .colab-df-convert:hover {\n",
              "      background-color: #E2EBFA;\n",
              "      box-shadow: 0px 1px 2px rgba(60, 64, 67, 0.3), 0px 1px 3px 1px rgba(60, 64, 67, 0.15);\n",
              "      fill: #174EA6;\n",
              "    }\n",
              "\n",
              "    .colab-df-buttons div {\n",
              "      margin-bottom: 4px;\n",
              "    }\n",
              "\n",
              "    [theme=dark] .colab-df-convert {\n",
              "      background-color: #3B4455;\n",
              "      fill: #D2E3FC;\n",
              "    }\n",
              "\n",
              "    [theme=dark] .colab-df-convert:hover {\n",
              "      background-color: #434B5C;\n",
              "      box-shadow: 0px 1px 3px 1px rgba(0, 0, 0, 0.15);\n",
              "      filter: drop-shadow(0px 1px 2px rgba(0, 0, 0, 0.3));\n",
              "      fill: #FFFFFF;\n",
              "    }\n",
              "  </style>\n",
              "\n",
              "    <script>\n",
              "      const buttonEl =\n",
              "        document.querySelector('#df-eb1501bf-d658-417d-909b-238968983d6e button.colab-df-convert');\n",
              "      buttonEl.style.display =\n",
              "        google.colab.kernel.accessAllowed ? 'block' : 'none';\n",
              "\n",
              "      async function convertToInteractive(key) {\n",
              "        const element = document.querySelector('#df-eb1501bf-d658-417d-909b-238968983d6e');\n",
              "        const dataTable =\n",
              "          await google.colab.kernel.invokeFunction('convertToInteractive',\n",
              "                                                    [key], {});\n",
              "        if (!dataTable) return;\n",
              "\n",
              "        const docLinkHtml = 'Like what you see? Visit the ' +\n",
              "          '<a target=\"_blank\" href=https://colab.research.google.com/notebooks/data_table.ipynb>data table notebook</a>'\n",
              "          + ' to learn more about interactive tables.';\n",
              "        element.innerHTML = '';\n",
              "        dataTable['output_type'] = 'display_data';\n",
              "        await google.colab.output.renderOutput(dataTable, element);\n",
              "        const docLink = document.createElement('div');\n",
              "        docLink.innerHTML = docLinkHtml;\n",
              "        element.appendChild(docLink);\n",
              "      }\n",
              "    </script>\n",
              "  </div>\n",
              "\n",
              "\n",
              "<div id=\"df-b6e297eb-0d9f-4eb1-825d-52aa72aadf3c\">\n",
              "  <button class=\"colab-df-quickchart\" onclick=\"quickchart('df-b6e297eb-0d9f-4eb1-825d-52aa72aadf3c')\"\n",
              "            title=\"Suggest charts\"\n",
              "            style=\"display:none;\">\n",
              "\n",
              "<svg xmlns=\"http://www.w3.org/2000/svg\" height=\"24px\"viewBox=\"0 0 24 24\"\n",
              "     width=\"24px\">\n",
              "    <g>\n",
              "        <path d=\"M19 3H5c-1.1 0-2 .9-2 2v14c0 1.1.9 2 2 2h14c1.1 0 2-.9 2-2V5c0-1.1-.9-2-2-2zM9 17H7v-7h2v7zm4 0h-2V7h2v10zm4 0h-2v-4h2v4z\"/>\n",
              "    </g>\n",
              "</svg>\n",
              "  </button>\n",
              "\n",
              "<style>\n",
              "  .colab-df-quickchart {\n",
              "      --bg-color: #E8F0FE;\n",
              "      --fill-color: #1967D2;\n",
              "      --hover-bg-color: #E2EBFA;\n",
              "      --hover-fill-color: #174EA6;\n",
              "      --disabled-fill-color: #AAA;\n",
              "      --disabled-bg-color: #DDD;\n",
              "  }\n",
              "\n",
              "  [theme=dark] .colab-df-quickchart {\n",
              "      --bg-color: #3B4455;\n",
              "      --fill-color: #D2E3FC;\n",
              "      --hover-bg-color: #434B5C;\n",
              "      --hover-fill-color: #FFFFFF;\n",
              "      --disabled-bg-color: #3B4455;\n",
              "      --disabled-fill-color: #666;\n",
              "  }\n",
              "\n",
              "  .colab-df-quickchart {\n",
              "    background-color: var(--bg-color);\n",
              "    border: none;\n",
              "    border-radius: 50%;\n",
              "    cursor: pointer;\n",
              "    display: none;\n",
              "    fill: var(--fill-color);\n",
              "    height: 32px;\n",
              "    padding: 0;\n",
              "    width: 32px;\n",
              "  }\n",
              "\n",
              "  .colab-df-quickchart:hover {\n",
              "    background-color: var(--hover-bg-color);\n",
              "    box-shadow: 0 1px 2px rgba(60, 64, 67, 0.3), 0 1px 3px 1px rgba(60, 64, 67, 0.15);\n",
              "    fill: var(--button-hover-fill-color);\n",
              "  }\n",
              "\n",
              "  .colab-df-quickchart-complete:disabled,\n",
              "  .colab-df-quickchart-complete:disabled:hover {\n",
              "    background-color: var(--disabled-bg-color);\n",
              "    fill: var(--disabled-fill-color);\n",
              "    box-shadow: none;\n",
              "  }\n",
              "\n",
              "  .colab-df-spinner {\n",
              "    border: 2px solid var(--fill-color);\n",
              "    border-color: transparent;\n",
              "    border-bottom-color: var(--fill-color);\n",
              "    animation:\n",
              "      spin 1s steps(1) infinite;\n",
              "  }\n",
              "\n",
              "  @keyframes spin {\n",
              "    0% {\n",
              "      border-color: transparent;\n",
              "      border-bottom-color: var(--fill-color);\n",
              "      border-left-color: var(--fill-color);\n",
              "    }\n",
              "    20% {\n",
              "      border-color: transparent;\n",
              "      border-left-color: var(--fill-color);\n",
              "      border-top-color: var(--fill-color);\n",
              "    }\n",
              "    30% {\n",
              "      border-color: transparent;\n",
              "      border-left-color: var(--fill-color);\n",
              "      border-top-color: var(--fill-color);\n",
              "      border-right-color: var(--fill-color);\n",
              "    }\n",
              "    40% {\n",
              "      border-color: transparent;\n",
              "      border-right-color: var(--fill-color);\n",
              "      border-top-color: var(--fill-color);\n",
              "    }\n",
              "    60% {\n",
              "      border-color: transparent;\n",
              "      border-right-color: var(--fill-color);\n",
              "    }\n",
              "    80% {\n",
              "      border-color: transparent;\n",
              "      border-right-color: var(--fill-color);\n",
              "      border-bottom-color: var(--fill-color);\n",
              "    }\n",
              "    90% {\n",
              "      border-color: transparent;\n",
              "      border-bottom-color: var(--fill-color);\n",
              "    }\n",
              "  }\n",
              "</style>\n",
              "\n",
              "  <script>\n",
              "    async function quickchart(key) {\n",
              "      const quickchartButtonEl =\n",
              "        document.querySelector('#' + key + ' button');\n",
              "      quickchartButtonEl.disabled = true;  // To prevent multiple clicks.\n",
              "      quickchartButtonEl.classList.add('colab-df-spinner');\n",
              "      try {\n",
              "        const charts = await google.colab.kernel.invokeFunction(\n",
              "            'suggestCharts', [key], {});\n",
              "      } catch (error) {\n",
              "        console.error('Error during call to suggestCharts:', error);\n",
              "      }\n",
              "      quickchartButtonEl.classList.remove('colab-df-spinner');\n",
              "      quickchartButtonEl.classList.add('colab-df-quickchart-complete');\n",
              "    }\n",
              "    (() => {\n",
              "      let quickchartButtonEl =\n",
              "        document.querySelector('#df-b6e297eb-0d9f-4eb1-825d-52aa72aadf3c button');\n",
              "      quickchartButtonEl.style.display =\n",
              "        google.colab.kernel.accessAllowed ? 'block' : 'none';\n",
              "    })();\n",
              "  </script>\n",
              "</div>\n",
              "\n",
              "    </div>\n",
              "  </div>\n"
            ],
            "application/vnd.google.colaboratory.intrinsic+json": {
              "type": "dataframe",
              "variable_name": "df"
            }
          },
          "metadata": {},
          "execution_count": 143
        }
      ]
    },
    {
      "cell_type": "markdown",
      "source": [
        "Exploratory Data Analysis"
      ],
      "metadata": {
        "id": "tEBDp1ZuUcM1"
      }
    },
    {
      "cell_type": "code",
      "source": [
        "# Display dataset dimensions\n",
        "print(f\"The dataset has {df.shape[0]} rows and {df.shape[1]} columns.\")\n",
        "\n",
        "# Summarize missing values per column\n",
        "print(\"\\nMissing values by column:\")\n",
        "print(df.isnull().sum())\n",
        "\n",
        "# Show statistical summary of the dataset\n",
        "print(\"\\nStatistical summary:\")\n",
        "print(df.describe())\n",
        "\n",
        "# Visualize class distribution\n",
        "sns.countplot(data=df, x='diagnosis')\n",
        "plt.title('Class Distribution')\n",
        "plt.show()\n",
        "\n"
      ],
      "metadata": {
        "colab": {
          "base_uri": "https://localhost:8080/",
          "height": 1000
        },
        "id": "4or9ZFUzUeCB",
        "outputId": "c175a065-c164-440c-c356-158a152cbab8"
      },
      "execution_count": null,
      "outputs": [
        {
          "output_type": "stream",
          "name": "stdout",
          "text": [
            "The dataset has 569 rows and 32 columns.\n",
            "\n",
            "Missing values by column:\n",
            "id                         0\n",
            "diagnosis                  0\n",
            "radius_mean                0\n",
            "texture_mean               0\n",
            "perimeter_mean             0\n",
            "area_mean                  0\n",
            "smoothness_mean            0\n",
            "compactness_mean           0\n",
            "concavity_mean             0\n",
            "concave points_mean        0\n",
            "symmetry_mean              0\n",
            "fractal_dimension_mean     0\n",
            "radius_se                  0\n",
            "texture_se                 0\n",
            "perimeter_se               0\n",
            "area_se                    0\n",
            "smoothness_se              0\n",
            "compactness_se             0\n",
            "concavity_se               0\n",
            "concave points_se          0\n",
            "symmetry_se                0\n",
            "fractal_dimension_se       0\n",
            "radius_worst               0\n",
            "texture_worst              0\n",
            "perimeter_worst            0\n",
            "area_worst                 0\n",
            "smoothness_worst           0\n",
            "compactness_worst          0\n",
            "concavity_worst            0\n",
            "concave points_worst       0\n",
            "symmetry_worst             0\n",
            "fractal_dimension_worst    0\n",
            "dtype: int64\n",
            "\n",
            "Statistical summary:\n",
            "                 id  radius_mean  texture_mean  perimeter_mean    area_mean  \\\n",
            "count  5.690000e+02   569.000000    569.000000      569.000000   569.000000   \n",
            "mean   3.037183e+07    14.127292     19.289649       91.969033   654.889104   \n",
            "std    1.250206e+08     3.524049      4.301036       24.298981   351.914129   \n",
            "min    8.670000e+03     6.981000      9.710000       43.790000   143.500000   \n",
            "25%    8.692180e+05    11.700000     16.170000       75.170000   420.300000   \n",
            "50%    9.060240e+05    13.370000     18.840000       86.240000   551.100000   \n",
            "75%    8.813129e+06    15.780000     21.800000      104.100000   782.700000   \n",
            "max    9.113205e+08    28.110000     39.280000      188.500000  2501.000000   \n",
            "\n",
            "       smoothness_mean  compactness_mean  concavity_mean  concave points_mean  \\\n",
            "count       569.000000        569.000000      569.000000           569.000000   \n",
            "mean          0.096360          0.104341        0.088799             0.048919   \n",
            "std           0.014064          0.052813        0.079720             0.038803   \n",
            "min           0.052630          0.019380        0.000000             0.000000   \n",
            "25%           0.086370          0.064920        0.029560             0.020310   \n",
            "50%           0.095870          0.092630        0.061540             0.033500   \n",
            "75%           0.105300          0.130400        0.130700             0.074000   \n",
            "max           0.163400          0.345400        0.426800             0.201200   \n",
            "\n",
            "       symmetry_mean  ...  radius_worst  texture_worst  perimeter_worst  \\\n",
            "count     569.000000  ...    569.000000     569.000000       569.000000   \n",
            "mean        0.181162  ...     16.269190      25.677223       107.261213   \n",
            "std         0.027414  ...      4.833242       6.146258        33.602542   \n",
            "min         0.106000  ...      7.930000      12.020000        50.410000   \n",
            "25%         0.161900  ...     13.010000      21.080000        84.110000   \n",
            "50%         0.179200  ...     14.970000      25.410000        97.660000   \n",
            "75%         0.195700  ...     18.790000      29.720000       125.400000   \n",
            "max         0.304000  ...     36.040000      49.540000       251.200000   \n",
            "\n",
            "        area_worst  smoothness_worst  compactness_worst  concavity_worst  \\\n",
            "count   569.000000        569.000000         569.000000       569.000000   \n",
            "mean    880.583128          0.132369           0.254265         0.272188   \n",
            "std     569.356993          0.022832           0.157336         0.208624   \n",
            "min     185.200000          0.071170           0.027290         0.000000   \n",
            "25%     515.300000          0.116600           0.147200         0.114500   \n",
            "50%     686.500000          0.131300           0.211900         0.226700   \n",
            "75%    1084.000000          0.146000           0.339100         0.382900   \n",
            "max    4254.000000          0.222600           1.058000         1.252000   \n",
            "\n",
            "       concave points_worst  symmetry_worst  fractal_dimension_worst  \n",
            "count            569.000000      569.000000               569.000000  \n",
            "mean               0.114606        0.290076                 0.083946  \n",
            "std                0.065732        0.061867                 0.018061  \n",
            "min                0.000000        0.156500                 0.055040  \n",
            "25%                0.064930        0.250400                 0.071460  \n",
            "50%                0.099930        0.282200                 0.080040  \n",
            "75%                0.161400        0.317900                 0.092080  \n",
            "max                0.291000        0.663800                 0.207500  \n",
            "\n",
            "[8 rows x 31 columns]\n"
          ]
        },
        {
          "output_type": "display_data",
          "data": {
            "text/plain": [
              "<Figure size 640x480 with 1 Axes>"
            ],
            "image/png": "[encoded data removed]"
          },
          "metadata": {}
        }
      ]
    },
    {
      "cell_type": "markdown",
      "source": [
        "Data Cleaning and Preprocessing"
      ],
      "metadata": {
        "id": "NZJQ_5hXVAId"
      }
    },
    {
      "cell_type": "code",
      "source": [
        "from sklearn.impute import SimpleImputer\n",
        "\n",
        "\n",
        "df.rename(columns={'diagnosis': 'Diagnosis'}, inplace=True)\n",
        "\n",
        "# Encoding the target variable: M -> 1, B -> 0\n",
        "df['Diagnosis'] = df['Diagnosis'].map({'M': 1, 'B': 0})\n",
        "df.drop(columns=['id'], errors='ignore', inplace=True)\n",
        "\n",
        "# Splitting features and target variable\n",
        "X_split = df.drop(columns=['Diagnosis'])\n",
        "y_split = df['Diagnosis']\n",
        "\n",
        "# Displaying missing values for each column\n",
        "print(\"\\nMissing values per column:\")\n",
        "print(df.isnull().sum())\n",
        "\n",
        "# Scaling the features\n",
        "scaler = StandardScaler()\n",
        "X_scaled = scaler.fit_transform(X_split)\n",
        "\n",
        "# Train-test split\n",
        "X_train, X_test, y_train, y_test = train_test_split(\n",
        "    X_scaled, y_split, test_size=0.2, random_state=42, stratify=y_split\n",
        ")\n",
        "\n",
        "# Handling missing values with mean imputation\n",
        "simpleinput = SimpleImputer(strategy='mean')\n",
        "X_train = simpleinput.fit_transform(X_train)\n",
        "X_test = simpleinput.transform(X_test)\n"
      ],
      "metadata": {
        "colab": {
          "base_uri": "https://localhost:8080/"
        },
        "id": "pejQuhbKVCe_",
        "outputId": "82b77521-784f-4287-d004-1cf669988edb"
      },
      "execution_count": null,
      "outputs": [
        {
          "output_type": "stream",
          "name": "stdout",
          "text": [
            "\n",
            "Missing values per column:\n",
            "Diagnosis                  0\n",
            "radius_mean                0\n",
            "texture_mean               0\n",
            "perimeter_mean             0\n",
            "area_mean                  0\n",
            "smoothness_mean            0\n",
            "compactness_mean           0\n",
            "concavity_mean             0\n",
            "concave points_mean        0\n",
            "symmetry_mean              0\n",
            "fractal_dimension_mean     0\n",
            "radius_se                  0\n",
            "texture_se                 0\n",
            "perimeter_se               0\n",
            "area_se                    0\n",
            "smoothness_se              0\n",
            "compactness_se             0\n",
            "concavity_se               0\n",
            "concave points_se          0\n",
            "symmetry_se                0\n",
            "fractal_dimension_se       0\n",
            "radius_worst               0\n",
            "texture_worst              0\n",
            "perimeter_worst            0\n",
            "area_worst                 0\n",
            "smoothness_worst           0\n",
            "compactness_worst          0\n",
            "concavity_worst            0\n",
            "concave points_worst       0\n",
            "symmetry_worst             0\n",
            "fractal_dimension_worst    0\n",
            "dtype: int64\n"
          ]
        }
      ]
    },
    {
      "cell_type": "markdown",
      "source": [
        "# 3. Part 1: K-Nearest Neighbors (KNN)**bold text**"
      ],
      "metadata": {
        "id": "AjTkIKR8WZ6v"
      }
    },
    {
      "cell_type": "markdown",
      "source": [
        "*3.1*. Implementing KNN with Different Distance Metrics"
      ],
      "metadata": {
        "id": "3CsGDZ5cWi5v"
      }
    },
    {
      "cell_type": "code",
      "source": [
        "#store model\n",
        "performanceKnn = {}\n",
        "# Range of K values\n",
        "rangeOf_K = range(1, 21)\n",
        "# Defining distance metrics\n",
        "distance_metrics = ['euclidean', 'manhattan', 'cosine']\n",
        "optimalValueOf_K = {}\n",
        "\n",
        "\n",
        "# Loop through each distance metric\n",
        "for metric in distance_metrics:\n",
        "    print(f\"\\nProcessing KNN with {metric} distance metric.\")\n",
        "    cv_scores = []\n",
        "    for k in rangeOf_K:\n",
        "        knn = KNeighborsClassifier(n_neighbors=k, metric=metric)\n",
        "        scores = cross_val_score(knn, X_train, y_train, cv=5, scoring='accuracy')\n",
        "        cv_scores.append(scores.mean())\n",
        "\n",
        "    # Finding the optimal K\n",
        "    optimal_k = rangeOf_K[np.argmax(cv_scores)]\n",
        "    optimalValueOf_K[metric] = {\n",
        "        'Optimal K': optimal_k,\n",
        "        'Cross-Validated Accuracy': max(cv_scores)\n",
        "    }\n",
        "    print(f\"Optimal K for {metric} distance: {optimal_k} with cross-validated accuracy of {max(cv_scores):.4f}\")\n",
        "\n",
        "    # Retraining KNN with optimal K\n",
        "    knn_optimal = KNeighborsClassifier(n_neighbors=optimal_k, metric=metric)\n",
        "    knn_optimal.fit(X_train, y_train)\n",
        "    y_pred_optimal = knn_optimal.predict(X_test)\n",
        "\n",
        "    # Evaluation Metrics\n",
        "    accuracy = accuracy_score(y_test, y_pred_optimal)\n",
        "    precision = precision_score(y_test, y_pred_optimal)\n",
        "    recall = recall_score(y_test, y_pred_optimal)\n",
        "    f1 = f1_score(y_test, y_pred_optimal)\n",
        "    roc = roc_auc_score(y_test, knn_optimal.predict_proba(X_test)[:, 1])\n",
        "\n",
        "    # Storing performance results\n",
        "    performanceKnn[metric] = {\n",
        "        'Optimal K': optimal_k,\n",
        "        'Accuracy': accuracy,\n",
        "        'Precision': precision,\n",
        "        'Recall': recall,\n",
        "        'F1-Score': f1,\n",
        "        'ROC-AUC': roc\n",
        "    }\n",
        "\n",
        "# Displaying the optimal K for each distance metric\n",
        "optimal_k_df = pd.DataFrame(optimalValueOf_K).T\n",
        "print(\"\\nOptimal K for each distance metric:\")\n",
        "print(optimal_k_df)\n",
        "\n",
        "# Create a DataFrame to summarize KNN performance for each distance metric\n",
        "knn_performance_df = pd.DataFrame.from_dict(performanceKnn, orient='index')\n",
        "print(\"\\nKNN Performance Summary for Each Distance Metric:\")\n",
        "print(knn_performance_df)"
      ],
      "metadata": {
        "colab": {
          "base_uri": "https://localhost:8080/"
        },
        "id": "g9amu3iUWoE3",
        "outputId": "df416f30-b80f-41ce-bf3e-680eca77fd8a"
      },
      "execution_count": null,
      "outputs": [
        {
          "output_type": "stream",
          "name": "stdout",
          "text": [
            "\n",
            "Processing KNN with euclidean distance metric.\n",
            "Optimal K for euclidean distance: 3 with cross-validated accuracy of 0.9692\n",
            "\n",
            "Processing KNN with manhattan distance metric.\n",
            "Optimal K for manhattan distance: 5 with cross-validated accuracy of 0.9692\n",
            "\n",
            "Processing KNN with cosine distance metric.\n",
            "Optimal K for cosine distance: 11 with cross-validated accuracy of 0.9648\n",
            "\n",
            "Optimal K for each distance metric:\n",
            "           Optimal K  Cross-Validated Accuracy\n",
            "euclidean        3.0                  0.969231\n",
            "manhattan        5.0                  0.969231\n",
            "cosine          11.0                  0.964835\n",
            "\n",
            "KNN Performance Summary for Each Distance Metric:\n",
            "           Optimal K  Accuracy  Precision    Recall  F1-Score   ROC-AUC\n",
            "euclidean          3  0.938596   0.972973  0.857143  0.911392  0.982474\n",
            "manhattan          5  0.956140   0.974359  0.904762  0.938272  0.983962\n",
            "cosine            11  0.947368   0.950000  0.904762  0.926829  0.990410\n"
          ]
        }
      ]
    },
    {
      "cell_type": "markdown",
      "source": [
        "Visualizing K vs Cross-Validated Accuracy for Each Distance Metric"
      ],
      "metadata": {
        "id": "gnpeDPQSaerc"
      }
    },
    {
      "cell_type": "code",
      "source": [
        "# Plot cross-validation accuracy for each distance metric\n",
        "plt.figure(figsize=(12, 6))\n",
        "\n",
        "for metric in distance_metrics:\n",
        "    cv_scores = []\n",
        "    for k in rangeOf_K:\n",
        "        knn = KNeighborsClassifier(n_neighbors=k, metric=metric)\n",
        "        scores = cross_val_score(knn, X_train, y_train, cv=5, scoring='accuracy')\n",
        "        cv_scores.append(scores.mean())\n",
        "    plt.plot(rangeOf_K, cv_scores, label=f\"{metric.capitalize()} Distance\")\n",
        "\n",
        "\n",
        "plt.title(\"Cross-Validation Accuracy for Different K Values\")\n",
        "plt.xlabel(\"Number of Neighbors (K)\")\n",
        "plt.ylabel(\"Cross-Validation Accuracy\")\n",
        "plt.xticks(rangeOf_K)\n",
        "plt.legend(title=\"Distance Metrics\")\n",
        "plt.grid()\n",
        "plt.show()\n"
      ],
      "metadata": {
        "colab": {
          "base_uri": "https://localhost:8080/",
          "height": 564
        },
        "id": "nTbZq__-Xym1",
        "outputId": "580e4f8e-3667-4a92-b3f6-d5008b0436d3"
      },
      "execution_count": null,
      "outputs": [
        {
          "output_type": "display_data",
          "data": {
            "text/plain": [
              "<Figure size 1200x600 with 1 Axes>"
            ],
            "image/png": "[encoded data removed]"
          },
          "metadata": {}
        }
      ]
    },
    {
      "cell_type": "markdown",
      "source": [
        "#4. Part 2: Logistic Regression"
      ],
      "metadata": {
        "id": "SOXuC2dhajR8"
      }
    },
    {
      "cell_type": "markdown",
      "source": [
        "4.1 Training a Logistic Regression Model with Default Parameter"
      ],
      "metadata": {
        "id": "sigZbTreapd8"
      }
    },
    {
      "cell_type": "code",
      "source": [
        "logistic_model = LogisticRegression(solver='liblinear', random_state=42)\n",
        "logistic_model.fit(X_train, y_train)\n",
        "\n",
        "# Predicting test set labels\n",
        "logistic_predictions = logistic_model.predict(X_test)\n",
        "\n",
        "# Evaluate model performance\n",
        "logistic_metrics = {\n",
        "    \"Accuracy\": accuracy_score(y_test, logistic_predictions),\n",
        "    \"Precision\": precision_score(y_test, logistic_predictions),\n",
        "    \"Recall\": recall_score(y_test, logistic_predictions),\n",
        "    \"F1-Score\": f1_score(y_test, logistic_predictions),\n",
        "    \"ROC-AUC\": roc_auc_score(y_test, logistic_model.predict_proba(X_test)[:, 1])\n",
        "}\n",
        "\n",
        "# Display performance metrics\n",
        "logistic_metrics_df = pd.DataFrame(logistic_metrics, index=[\"Logistic Regression\"])\n",
        "print(\"\\nLogistic Regression Performance:\")\n",
        "print(\"----------------------------------------------------------------------\")\n",
        "print(logistic_metrics_df)\n"
      ],
      "metadata": {
        "colab": {
          "base_uri": "https://localhost:8080/"
        },
        "id": "IwpVBCj8aKnm",
        "outputId": "53e38e19-8eef-4280-a6ee-cc61b75cd2d1"
      },
      "execution_count": null,
      "outputs": [
        {
          "output_type": "stream",
          "name": "stdout",
          "text": [
            "\n",
            "Logistic Regression Performance:\n",
            "----------------------------------------------------------------------\n",
            "                     Accuracy  Precision    Recall  F1-Score   ROC-AUC\n",
            "Logistic Regression  0.973684    0.97561  0.952381  0.963855  0.996362\n"
          ]
        }
      ]
    },
    {
      "cell_type": "markdown",
      "source": [
        "4.2. Experimenting with Regularization Techniques"
      ],
      "metadata": {
        "id": "j_gPuB3kbjpV"
      }
    },
    {
      "cell_type": "code",
      "source": [
        "# Initializing and fitting GridSearchCV for logistic regression\n",
        "param_grid = {\n",
        "    'penalty': ['l1', 'l2'],\n",
        "    'C': [0.01, 0.1, 1, 10, 100],\n",
        "    'solver': ['liblinear']\n",
        "}\n",
        "\n",
        "grid_search = GridSearchCV(LogisticRegression(random_state=42), param_grid, cv=5, scoring='accuracy')\n",
        "grid_search.fit(X_train, y_train)\n",
        "\n",
        "# Best parameters and score\n",
        "best_params = grid_search.best_params_\n",
        "best_score = grid_search.best_score_\n",
        "print(f\"\\nBest Parameters for Logistic Regression: {best_params}\")\n",
        "print(f\"Best Cross-Validated Accuracy: {best_score:.4f}\")\n",
        "\n",
        "dict_performance = {}\n",
        "best_log_model = grid_search.best_estimator_\n",
        "\n",
        "# Evaluate performance for each penalty (L1 and L2)\n",
        "for penalty in ['l1', 'l2']:\n",
        "    print(f\"\\nEvaluating Logistic Regression with {penalty} penalty:\")\n",
        "\n",
        "    gridSearch = GridSearchCV(\n",
        "        LogisticRegression(random_state=42, solver='liblinear'),\n",
        "        {'C': [0.01, 0.1, 1, 10, 100], 'penalty': [penalty]},\n",
        "        cv=5, scoring='accuracy'\n",
        "    )\n",
        "    gridSearch.fit(X_train, y_train)\n",
        "\n",
        "    best_model = gridSearch.best_estimator_\n",
        "    y_pred = best_model.predict(X_test)\n",
        "\n",
        "    metrics = {\n",
        "        'Best C': gridSearch.best_params_['C'],\n",
        "        'Accuracy': accuracy_score(y_test, y_pred),\n",
        "        'Precision': precision_score(y_test, y_pred),\n",
        "        'Recall': recall_score(y_test, y_pred),\n",
        "        'F1-Score': f1_score(y_test, y_pred),\n",
        "        'ROC-AUC': roc_auc_score(y_test, best_model.predict_proba(X_test)[:, 1])\n",
        "    }\n",
        "\n",
        "    dict_performance[penalty] = metrics\n",
        "\n",
        "# Function to display performance for each penalty\n",
        "def display_penalty_performance(penalty, metrics):\n",
        "    print(f\"Best C: {metrics['Best C']}\")\n",
        "    for metric, value in metrics.items():\n",
        "        if metric != 'Best C':\n",
        "            print(f\"{metric}: {value:.4f}\")\n",
        "\n",
        "\n",
        "# Function to display summary performance\n",
        "def display_summary_performance(dict_performance):\n",
        "    print(\"\\nSummary Performance for L1 and L2 Penalties:\")\n",
        "    performance_df = pd.DataFrame(dict_performance).T\n",
        "    print(performance_df)\n",
        "\n",
        "\n",
        "# Function to display best overall performance\n",
        "def display_best_overall_performance(model, X_test, y_test):\n",
        "    print(\"\\nBest Overall Logistic Regression Performance:\")\n",
        "    y_pred_best = model.predict(X_test)\n",
        "    best_metrics = {\n",
        "        'Accuracy': accuracy_score(y_test, y_pred_best),\n",
        "        'Precision': precision_score(y_test, y_pred_best),\n",
        "        'Recall': recall_score(y_test, y_pred_best),\n",
        "        'F1-Score': f1_score(y_test, y_pred_best),\n",
        "        'ROC-AUC': roc_auc_score(y_test, model.predict_proba(X_test)[:, 1])\n",
        "    }\n",
        "    for metric, value in best_metrics.items():\n",
        "        print(f\"{metric}: {value:.4f}\")\n",
        "\n",
        "\n",
        "# Display performance for each penalty\n",
        "for penalty, metrics in dict_performance.items():\n",
        "    print(f\"\\nPerformance for {penalty} Penalty:\")\n",
        "    display_penalty_performance(penalty, metrics)\n",
        "\n",
        "# Display summary of performance\n",
        "display_summary_performance(dict_performance)\n",
        "\n",
        "# Display best overall performance\n",
        "display_best_overall_performance(best_log_model, X_test, y_test)\n",
        "\n",
        "\n",
        "y_pred_best = best_log_model.predict(X_test)\n",
        "best_log_acc = accuracy_score(y_test, y_pred_best)\n",
        "best_log_prec = precision_score(y_test, y_pred_best)\n",
        "best_log_rec = recall_score(y_test, y_pred_best)\n",
        "best_log_f1 = f1_score(y_test, y_pred_best)\n",
        "best_log_roc = roc_auc_score(y_test, best_log_model.predict_proba(X_test)[:, 1])"
      ],
      "metadata": {
        "colab": {
          "base_uri": "https://localhost:8080/"
        },
        "id": "o_u9bF89bmjl",
        "outputId": "93a39c68-694c-43e8-b6ff-5e6609b34fd3"
      },
      "execution_count": null,
      "outputs": [
        {
          "output_type": "stream",
          "name": "stdout",
          "text": [
            "\n",
            "Best Parameters for Logistic Regression: {'C': 0.1, 'penalty': 'l2', 'solver': 'liblinear'}\n",
            "Best Cross-Validated Accuracy: 0.9758\n",
            "\n",
            "Evaluating Logistic Regression with l1 penalty:\n",
            "\n",
            "Evaluating Logistic Regression with l2 penalty:\n",
            "\n",
            "Performance for l1 Penalty:\n",
            "Best C: 1\n",
            "Accuracy: 0.9737\n",
            "Precision: 0.9756\n",
            "Recall: 0.9524\n",
            "F1-Score: 0.9639\n",
            "ROC-AUC: 0.9964\n",
            "\n",
            "Performance for l2 Penalty:\n",
            "Best C: 0.1\n",
            "Accuracy: 0.9825\n",
            "Precision: 1.0000\n",
            "Recall: 0.9524\n",
            "F1-Score: 0.9756\n",
            "ROC-AUC: 0.9980\n",
            "\n",
            "Summary Performance for L1 and L2 Penalties:\n",
            "    Best C  Accuracy  Precision    Recall  F1-Score   ROC-AUC\n",
            "l1     1.0  0.973684    0.97561  0.952381  0.963855  0.996362\n",
            "l2     0.1  0.982456    1.00000  0.952381  0.975610  0.998016\n",
            "\n",
            "Best Overall Logistic Regression Performance:\n",
            "Accuracy: 0.9825\n",
            "Precision: 1.0000\n",
            "Recall: 0.9524\n",
            "F1-Score: 0.9756\n",
            "ROC-AUC: 0.9980\n"
          ]
        }
      ]
    },
    {
      "cell_type": "markdown",
      "source": [
        "4.3. Comparing Logistic Regression with KNN"
      ],
      "metadata": {
        "id": "uUla4Ur4dIE4"
      }
    },
    {
      "cell_type": "code",
      "source": [
        "# Creating a comparison DataFrame\n",
        "comparison = pd.DataFrame({\n",
        "    'Metric': ['Accuracy', 'Precision', 'Recall', 'F1-Score', 'ROC-AUC']\n",
        "})\n",
        "\n",
        "# Adding KNN performance (selecting the best distance metric based on ROC-AUC)\n",
        "best_knn_metric = knn_performance_df['ROC-AUC'].idxmax()\n",
        "comparison['KNN'] = [\n",
        "    knn_performance_df.loc[best_knn_metric, 'Accuracy'],\n",
        "    knn_performance_df.loc[best_knn_metric, 'Precision'],\n",
        "    knn_performance_df.loc[best_knn_metric, 'Recall'],\n",
        "    knn_performance_df.loc[best_knn_metric, 'F1-Score'],\n",
        "    knn_performance_df.loc[best_knn_metric, 'ROC-AUC']\n",
        "]\n",
        "\n",
        "# Adding Logistic Regression performance\n",
        "comparison['Logistic Regression'] = [\n",
        "    best_log_acc,\n",
        "    best_log_prec,\n",
        "    best_log_rec,\n",
        "    best_log_f1,\n",
        "    best_log_roc\n",
        "]\n",
        "\n",
        "print(\"\\nComparison between KNN and Logistic Regression:\")\n",
        "print(comparison)\n"
      ],
      "metadata": {
        "colab": {
          "base_uri": "https://localhost:8080/"
        },
        "id": "xGypZbIHdFc9",
        "outputId": "b83b2c28-9d8a-49bd-ff8c-b2b4017dfa00"
      },
      "execution_count": null,
      "outputs": [
        {
          "output_type": "stream",
          "name": "stdout",
          "text": [
            "\n",
            "Comparison between KNN and Logistic Regression:\n",
            "      Metric       KNN  Logistic Regression\n",
            "0   Accuracy  0.947368             0.982456\n",
            "1  Precision  0.950000             1.000000\n",
            "2     Recall  0.904762             0.952381\n",
            "3   F1-Score  0.926829             0.975610\n",
            "4    ROC-AUC  0.990410             0.998016\n"
          ]
        }
      ]
    },
    {
      "cell_type": "markdown",
      "source": [
        "#5. Part 3: Support Vector Machines (SVM)"
      ],
      "metadata": {
        "id": "IMoCcor_fkjo"
      }
    },
    {
      "cell_type": "markdown",
      "source": [
        "5.1. Implementing SVM with Different Kernels"
      ],
      "metadata": {
        "id": "YMzs7Yg1fsKr"
      }
    },
    {
      "cell_type": "code",
      "source": [
        "\n",
        "# Defining kernels to experiment with\n",
        "kernels = ['linear', 'poly', 'rbf']\n",
        "\n",
        "# Dictionary to store models and their performances\n",
        "svm_performance = {}\n",
        "\n",
        "for kernel in kernels:\n",
        "    print(f\"\\nProcessing SVM with {kernel} kernel.\")\n",
        "    svm = SVC(kernel=kernel, probability=True, random_state=42)\n",
        "    svm.fit(X_train, y_train)\n",
        "    y_pred_svm = svm.predict(X_test)\n",
        "\n",
        "    # Calculating evaluation metrics\n",
        "    acc = accuracy_score(y_test, y_pred_svm)\n",
        "    prec = precision_score(y_test, y_pred_svm)\n",
        "    rec = recall_score(y_test, y_pred_svm)\n",
        "    f1 = f1_score(y_test, y_pred_svm)\n",
        "    roc = roc_auc_score(y_test, svm.predict_proba(X_test)[:,1])\n",
        "\n",
        "    svm_performance[kernel] = {'Accuracy': acc, 'Precision': prec, 'Recall': rec, 'F1-Score': f1, 'ROC-AUC': roc}\n",
        "\n",
        "# Displaying the performance\n",
        "svm_df = pd.DataFrame(svm_performance).T\n",
        "print(\"\\nSVM Performance with Different Kernels:\")\n",
        "print(svm_df)\n"
      ],
      "metadata": {
        "colab": {
          "base_uri": "https://localhost:8080/"
        },
        "id": "JR6VVj3xfqbX",
        "outputId": "30c7fea8-1867-408c-bf3b-a1d741b25aba"
      },
      "execution_count": null,
      "outputs": [
        {
          "output_type": "stream",
          "name": "stdout",
          "text": [
            "\n",
            "Processing SVM with linear kernel.\n",
            "\n",
            "Processing SVM with poly kernel.\n",
            "\n",
            "Processing SVM with rbf kernel.\n",
            "\n",
            "SVM Performance with Different Kernels:\n",
            "        Accuracy  Precision    Recall  F1-Score   ROC-AUC\n",
            "linear  0.964912        1.0  0.904762  0.950000  0.991402\n",
            "poly    0.885965        1.0  0.690476  0.816901  0.996693\n",
            "rbf     0.973684        1.0  0.928571  0.962963  0.995370\n"
          ]
        }
      ]
    },
    {
      "cell_type": "markdown",
      "source": [
        "5.2. Hyperparameter Tuning for SVM"
      ],
      "metadata": {
        "id": "Ky-hCFTef8T1"
      }
    },
    {
      "cell_type": "code",
      "source": [
        "\n",
        "# Defining parameter grid for RBF kernel\n",
        "param_grid_rbf = {\n",
        "    'C': [0.1, 1, 10, 100],\n",
        "    'gamma': ['scale', 'auto', 0.001, 0.01, 0.1, 1]\n",
        "}\n",
        "\n",
        "# Grid Search for RBF kernel\n",
        "print(\"\\nPerforming Grid Search for SVM with RBF Kernel...\")\n",
        "grid_rbf = GridSearchCV(SVC(kernel='rbf', probability=True, random_state=42), param_grid_rbf, cv=5, scoring='accuracy')\n",
        "grid_rbf.fit(X_train, y_train)\n",
        "\n",
        "print(f\"Best Parameters for RBF Kernel: {grid_rbf.best_params_}\")\n",
        "print(f\"Best Cross-Validated Accuracy: {grid_rbf.best_score_:.4f}\")\n",
        "\n",
        "# Best estimator\n",
        "best_svm_rbf = grid_rbf.best_estimator_\n",
        "y_pred_rbf = best_svm_rbf.predict(X_test)\n",
        "\n",
        "# Evaluation\n",
        "rbf_accuracy = accuracy_score(y_test, y_pred_rbf)\n",
        "rbf_precision = precision_score(y_test, y_pred_rbf)\n",
        "rbf_recall = recall_score(y_test, y_pred_rbf)\n",
        "rbf_f1 = f1_score(y_test, y_pred_rbf)\n",
        "rbf_roc = roc_auc_score(y_test, best_svm_rbf.predict_proba(X_test)[:,1])\n",
        "\n",
        "print(\"\\nSVM with RBF Kernel (Best Parameters) Performance:\")\n",
        "print(f\"Accuracy: {rbf_accuracy:.4f}\")\n",
        "print(f\"Precision: {rbf_precision:.4f}\")\n",
        "print(f\"Recall: {rbf_recall:.4f}\")\n",
        "print(f\"F1-Score: {rbf_f1:.4f}\")\n",
        "print(f\"ROC-AUC: {rbf_roc:.4f}\")\n",
        "\n",
        "# Updating SVM performance with best RBF kernel\n",
        "svm_performance['rbf_best'] = {\n",
        "    'Accuracy': rbf_accuracy,\n",
        "    'Precision': rbf_precision,\n",
        "    'Recall': rbf_recall,\n",
        "    'F1-Score': rbf_f1,\n",
        "    'ROC-AUC': rbf_roc\n",
        "}\n"
      ],
      "metadata": {
        "colab": {
          "base_uri": "https://localhost:8080/"
        },
        "id": "gw22PpgsgBkC",
        "outputId": "d00f1a0d-c60f-4df0-dd3e-a38e7ac392ce"
      },
      "execution_count": null,
      "outputs": [
        {
          "output_type": "stream",
          "name": "stdout",
          "text": [
            "\n",
            "Performing Grid Search for SVM with RBF Kernel...\n",
            "Best Parameters for RBF Kernel: {'C': 100, 'gamma': 0.01}\n",
            "Best Cross-Validated Accuracy: 0.9758\n",
            "\n",
            "SVM with RBF Kernel (Best Parameters) Performance:\n",
            "Accuracy: 0.9561\n",
            "Precision: 0.9512\n",
            "Recall: 0.9286\n",
            "F1-Score: 0.9398\n",
            "ROC-AUC: 0.9931\n"
          ]
        }
      ]
    },
    {
      "cell_type": "markdown",
      "source": [
        "Comparing Different SVM Kernels Including Tuned RBF"
      ],
      "metadata": {
        "id": "-jxEIcZjgB9n"
      }
    },
    {
      "cell_type": "code",
      "source": [
        "\n",
        "# Creating an updated SVM performance DataFrame\n",
        "svm_comparison = pd.DataFrame(svm_performance).T\n",
        "print(\"\\nUpdated SVM Performance including Tuned RBF Kernel:\")\n",
        "print(svm_comparison)\n"
      ],
      "metadata": {
        "colab": {
          "base_uri": "https://localhost:8080/"
        },
        "id": "VehwpHwqgFTo",
        "outputId": "703addd3-43fd-4d26-cbbd-350cc2d5d297"
      },
      "execution_count": null,
      "outputs": [
        {
          "output_type": "stream",
          "name": "stdout",
          "text": [
            "\n",
            "Updated SVM Performance including Tuned RBF Kernel:\n",
            "          Accuracy  Precision    Recall  F1-Score   ROC-AUC\n",
            "linear    0.964912    1.00000  0.904762  0.950000  0.991402\n",
            "poly      0.885965    1.00000  0.690476  0.816901  0.996693\n",
            "rbf       0.973684    1.00000  0.928571  0.962963  0.995370\n",
            "rbf_best  0.956140    0.95122  0.928571  0.939759  0.993056\n"
          ]
        }
      ]
    },
    {
      "cell_type": "markdown",
      "source": [
        "#6. Part 4: Ensemble Methods"
      ],
      "metadata": {
        "id": "DESkm9TagFr-"
      }
    },
    {
      "cell_type": "markdown",
      "source": [
        "6.1. Boosting with AdaBoost"
      ],
      "metadata": {
        "id": "kG39EX_YgHCM"
      }
    },
    {
      "cell_type": "code",
      "source": [
        "from sklearn.ensemble import AdaBoostClassifier\n",
        "from sklearn.metrics import accuracy_score, precision_score, recall_score, f1_score, roc_auc_score\n",
        "\n",
        "# Train AdaBoost classifier\n",
        "ada = AdaBoostClassifier(n_estimators=100, random_state=42)\n",
        "ada.fit(X_train, y_train)\n",
        "\n",
        "# Make predictions\n",
        "y_pred_ada = ada.predict(X_test)\n",
        "\n",
        "# Evaluate performance\n",
        "ada_accuracy = accuracy_score(y_test, y_pred_ada)\n",
        "ada_precision = precision_score(y_test, y_pred_ada)\n",
        "ada_recall = recall_score(y_test, y_pred_ada)\n",
        "ada_f1 = f1_score(y_test, y_pred_ada)\n",
        "ada_roc = roc_auc_score(y_test, ada.predict_proba(X_test)[:, 1])\n",
        "\n",
        "# Print results with improved formatting\n",
        "print(\"\\nAdaBoost Performance Evaluation:\")\n",
        "print(\"-\" * 50)\n",
        "print(f\"{'Metric':<20} {'Score':<10}\")\n",
        "print(\"-\" * 50)\n",
        "print(f\"{'Accuracy':<20} {ada_accuracy:.4f}\")\n",
        "print(f\"{'Precision':<20} {ada_precision:.4f}\")\n",
        "print(f\"{'Recall':<20} {ada_recall:.4f}\")\n",
        "print(f\"{'F1-Score':<20} {ada_f1:.4f}\")\n",
        "print(f\"{'ROC-AUC':<20} {ada_roc:.4f}\")\n",
        "print(\"-\" * 50)\n"
      ],
      "metadata": {
        "colab": {
          "base_uri": "https://localhost:8080/"
        },
        "id": "Jj3XxZXPjYd7",
        "outputId": "67f57597-33b5-45ec-b5b2-7bf92456d03a"
      },
      "execution_count": null,
      "outputs": [
        {
          "output_type": "stream",
          "name": "stdout",
          "text": [
            "\n",
            "AdaBoost Performance Evaluation:\n",
            "--------------------------------------------------\n",
            "Metric               Score     \n",
            "--------------------------------------------------\n",
            "Accuracy             0.9737\n",
            "Precision            1.0000\n",
            "Recall               0.9286\n",
            "F1-Score             0.9630\n",
            "ROC-AUC              0.9854\n",
            "--------------------------------------------------\n"
          ]
        }
      ]
    },
    {
      "cell_type": "markdown",
      "source": [
        "6.2. Bagging with Random Forest"
      ],
      "metadata": {
        "id": "zXMo0HnZji81"
      }
    },
    {
      "cell_type": "code",
      "source": [
        "from sklearn.ensemble import RandomForestClassifier\n",
        "from sklearn.metrics import accuracy_score, precision_score, recall_score, f1_score, roc_auc_score\n",
        "\n",
        "# Train Random Forest Classifier\n",
        "rf = RandomForestClassifier(n_estimators=100, random_state=42)\n",
        "rf.fit(X_train, y_train)\n",
        "\n",
        "# Make predictions\n",
        "y_pred_rf = rf.predict(X_test)\n",
        "\n",
        "# Evaluate performance\n",
        "rf_accuracy = accuracy_score(y_test, y_pred_rf)\n",
        "rf_precision = precision_score(y_test, y_pred_rf)\n",
        "rf_recall = recall_score(y_test, y_pred_rf)\n",
        "rf_f1 = f1_score(y_test, y_pred_rf)\n",
        "rf_roc = roc_auc_score(y_test, rf.predict_proba(X_test)[:, 1])\n",
        "\n",
        "# Print results with improved formatting\n",
        "print(\"\\nRandom Forest Performance Evaluation:\")\n",
        "print(\"-\" * 50)\n",
        "print(f\"{'Metric':<20} {'Score':<10}\")\n",
        "print(\"-\" * 50)\n",
        "print(f\"{'Accuracy':<20} {rf_accuracy:.4f}\")\n",
        "print(f\"{'Precision':<20} {rf_precision:.4f}\")\n",
        "print(f\"{'Recall':<20} {rf_recall:.4f}\")\n",
        "print(f\"{'F1-Score':<20} {rf_f1:.4f}\")\n",
        "print(f\"{'ROC-AUC':<20} {rf_roc:.4f}\")\n",
        "print(\"-\" * 50)\n"
      ],
      "metadata": {
        "colab": {
          "base_uri": "https://localhost:8080/"
        },
        "id": "mP5d6X3jjk3A",
        "outputId": "3ab3e24a-4ba8-437e-c9fb-15bdae18900b"
      },
      "execution_count": null,
      "outputs": [
        {
          "output_type": "stream",
          "name": "stdout",
          "text": [
            "\n",
            "Random Forest Performance Evaluation:\n",
            "--------------------------------------------------\n",
            "Metric               Score     \n",
            "--------------------------------------------------\n",
            "Accuracy             0.9737\n",
            "Precision            1.0000\n",
            "Recall               0.9286\n",
            "F1-Score             0.9630\n",
            "ROC-AUC              0.9929\n",
            "--------------------------------------------------\n"
          ]
        }
      ]
    },
    {
      "cell_type": "markdown",
      "source": [
        "6.3. Comparing Boosting and Bagging"
      ],
      "metadata": {
        "id": "yqgzBgF0jlQ5"
      }
    },
    {
      "cell_type": "code",
      "source": [
        "import pandas as pd\n",
        "\n",
        "# Creating a comparison DataFrame\n",
        "ensemble_comparison = pd.DataFrame({\n",
        "    'Metric': ['Accuracy', 'Precision', 'Recall', 'F1-Score', 'ROC-AUC'],\n",
        "    'AdaBoost': [ada_accuracy, ada_precision, ada_recall, ada_f1, ada_roc],\n",
        "    'Random Forest': [rf_accuracy, rf_precision, rf_recall, rf_f1, rf_roc]\n",
        "})\n",
        "\n",
        "# Print the comparison in a clean format\n",
        "print(\"\\nComparison between AdaBoost and Random Forest:\")\n",
        "print(\"-\" * 50)\n",
        "print(ensemble_comparison.to_string(index=False))\n",
        "print(\"-\" * 50)\n"
      ],
      "metadata": {
        "colab": {
          "base_uri": "https://localhost:8080/"
        },
        "id": "sA-1qKZJj4e_",
        "outputId": "f58728dc-4330-4bc1-f5e6-2f168974f4f3"
      },
      "execution_count": null,
      "outputs": [
        {
          "output_type": "stream",
          "name": "stdout",
          "text": [
            "\n",
            "Comparison between AdaBoost and Random Forest:\n",
            "--------------------------------------------------\n",
            "   Metric  AdaBoost  Random Forest\n",
            " Accuracy  0.973684       0.973684\n",
            "Precision  1.000000       1.000000\n",
            "   Recall  0.928571       0.928571\n",
            " F1-Score  0.962963       0.962963\n",
            "  ROC-AUC  0.985450       0.992890\n",
            "--------------------------------------------------\n"
          ]
        }
      ]
    },
    {
      "cell_type": "markdown",
      "source": [
        "6.4. Comparison with Individual Models"
      ],
      "metadata": {
        "id": "xlQVoMx1kCrI"
      }
    },
    {
      "cell_type": "code",
      "source": [
        "import pandas as pd\n",
        "\n",
        "# Creating a comparison DataFrame with metrics for all models\n",
        "comparison_extended = pd.DataFrame({\n",
        "    'Metric': ['Accuracy', 'Precision', 'Recall', 'F1-Score', 'ROC-AUC'],\n",
        "    'SVM (RBF Best)': [rbf_accuracy, rbf_precision, rbf_recall, rbf_f1, rbf_roc],\n",
        "    'AdaBoost': [ada_accuracy, ada_precision, ada_recall, ada_f1, ada_roc],\n",
        "    'Random Forest': [rf_accuracy, rf_precision, rf_recall, rf_f1, rf_roc]\n",
        "})\n",
        "\n",
        "# Setting 'Metric' as the index for cleaner display\n",
        "comparison_extended.set_index('Metric', inplace=True)\n",
        "\n",
        "# Displaying the extended comparison with spaces for better readability\n",
        "print(\"\\n\" + \"=\" * 50)\n",
        "print(\"Extended Model Comparison\".center(50))\n",
        "print(\"=\" * 50)\n",
        "print(\"\\n\")\n",
        "print(comparison_extended)\n",
        "print(\"\\n\" + \"=\" * 50)\n"
      ],
      "metadata": {
        "colab": {
          "base_uri": "https://localhost:8080/"
        },
        "id": "Hlez-qr-kBJf",
        "outputId": "55101098-066c-4910-8c1c-6790bb3ea2fe"
      },
      "execution_count": null,
      "outputs": [
        {
          "output_type": "stream",
          "name": "stdout",
          "text": [
            "\n",
            "==================================================\n",
            "            Extended Model Comparison             \n",
            "==================================================\n",
            "\n",
            "\n",
            "           SVM (RBF Best)  AdaBoost  Random Forest\n",
            "Metric                                            \n",
            "Accuracy         0.956140  0.973684       0.973684\n",
            "Precision        0.951220  1.000000       1.000000\n",
            "Recall           0.928571  0.928571       0.928571\n",
            "F1-Score         0.939759  0.962963       0.962963\n",
            "ROC-AUC          0.993056  0.985450       0.992890\n",
            "\n",
            "==================================================\n"
          ]
        }
      ]
    },
    {
      "cell_type": "markdown",
      "source": [
        "#7.Visualization of Model Comparisons\n"
      ],
      "metadata": {
        "id": "jLKkvR_klSgz"
      }
    },
    {
      "cell_type": "markdown",
      "source": [
        "Comparing All Models Based on ROC-AUC"
      ],
      "metadata": {
        "id": "e9W5vTWYltoM"
      }
    },
    {
      "cell_type": "code",
      "source": [
        "plt.figure(figsize=(10,6))\n",
        "comparison_extended.loc['ROC-AUC'].plot(kind='bar', color='skyblue')\n",
        "plt.title('ROC-AUC Comparison of Models')\n",
        "plt.ylabel('ROC-AUC Score')\n",
        "plt.ylim(0.8,1)\n",
        "plt.grid(axis='y')\n",
        "plt.show()"
      ],
      "metadata": {
        "colab": {
          "base_uri": "https://localhost:8080/",
          "height": 638
        },
        "id": "ue_LTWKHlwXL",
        "outputId": "4537a9e7-6e2b-46c6-c3f4-abfe9738fdc9"
      },
      "execution_count": null,
      "outputs": [
        {
          "output_type": "display_data",
          "data": {
            "text/plain": [
              "<Figure size 1000x600 with 1 Axes>"
            ],
            "image/png": "[encoded data removed]"
          },
          "metadata": {}
        }
      ]
    },
    {
      "cell_type": "markdown",
      "source": [
        "Comparing All Models Based on Accuracy"
      ],
      "metadata": {
        "id": "kYhFL5hWlzSX"
      }
    },
    {
      "cell_type": "code",
      "source": [
        "plt.figure(figsize=(10,6))\n",
        "comparison_extended.loc['Accuracy'].plot(kind='bar', color='salmon')\n",
        "plt.title('Accuracy Comparison of Models')\n",
        "plt.ylabel('Accuracy Score')\n",
        "plt.ylim(0.8,1)\n",
        "plt.grid(axis='y')\n",
        "plt.show()"
      ],
      "metadata": {
        "colab": {
          "base_uri": "https://localhost:8080/",
          "height": 638
        },
        "id": "6SAqcf-Wl1Sb",
        "outputId": "443539f4-8f97-4b31-c2f5-dcee3c03fd8d"
      },
      "execution_count": null,
      "outputs": [
        {
          "output_type": "display_data",
          "data": {
            "text/plain": [
              "<Figure size 1000x600 with 1 Axes>"
            ],
            "image/png": "[encoded data removed]"
          },
          "metadata": {}
        }
      ]
    }
  ]
}